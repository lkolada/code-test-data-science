{
 "cells": [
  {
   "cell_type": "code",
   "execution_count": 1,
   "id": "befae0be-75d7-4e27-836d-5514c68de19d",
   "metadata": {
    "execution": {
     "iopub.execute_input": "2024-03-11T13:27:56.359545Z",
     "iopub.status.busy": "2024-03-11T13:27:56.359020Z",
     "iopub.status.idle": "2024-03-11T13:27:57.327953Z",
     "shell.execute_reply": "2024-03-11T13:27:57.326877Z",
     "shell.execute_reply.started": "2024-03-11T13:27:56.359496Z"
    },
    "tags": []
   },
   "outputs": [],
   "source": [
    "import pandas as pd\n",
    "\n",
    "import phonenumbers\n",
    "from email_validator import validate_email, EmailNotValidError\n",
    "from ip2geotools.databases.noncommercial import DbIpCity"
   ]
  },
  {
   "cell_type": "markdown",
   "id": "6bc5619f-8bcd-4c29-a16a-c1cf86d3f8e0",
   "metadata": {},
   "source": [
    "# Read data"
   ]
  },
  {
   "cell_type": "code",
   "execution_count": 2,
   "id": "1420d5ea-e021-4814-9a20-617d14267b8e",
   "metadata": {
    "execution": {
     "iopub.execute_input": "2024-03-11T13:27:57.329928Z",
     "iopub.status.busy": "2024-03-11T13:27:57.329325Z",
     "iopub.status.idle": "2024-03-11T13:27:57.334075Z",
     "shell.execute_reply": "2024-03-11T13:27:57.333369Z",
     "shell.execute_reply.started": "2024-03-11T13:27:57.329892Z"
    }
   },
   "outputs": [],
   "source": [
    "fp = 'customers.json'"
   ]
  },
  {
   "cell_type": "code",
   "execution_count": 3,
   "id": "7335e307-1ea4-4fe5-81c8-cb19a7043145",
   "metadata": {
    "execution": {
     "iopub.execute_input": "2024-03-11T13:27:57.338457Z",
     "iopub.status.busy": "2024-03-11T13:27:57.337885Z",
     "iopub.status.idle": "2024-03-11T13:27:57.358496Z",
     "shell.execute_reply": "2024-03-11T13:27:57.357102Z",
     "shell.execute_reply.started": "2024-03-11T13:27:57.338371Z"
    }
   },
   "outputs": [],
   "source": [
    "customers_df = pd.read_json(fp, lines=True)"
   ]
  },
  {
   "cell_type": "code",
   "execution_count": 4,
   "id": "70bf6edc-e1ba-464f-b79d-bc5a34dfe9fe",
   "metadata": {
    "execution": {
     "iopub.execute_input": "2024-03-11T13:27:57.361056Z",
     "iopub.status.busy": "2024-03-11T13:27:57.360453Z",
     "iopub.status.idle": "2024-03-11T13:27:57.399219Z",
     "shell.execute_reply": "2024-03-11T13:27:57.397821Z",
     "shell.execute_reply.started": "2024-03-11T13:27:57.361013Z"
    }
   },
   "outputs": [
    {
     "data": {
      "text/html": [
       "<div>\n",
       "<style scoped>\n",
       "    .dataframe tbody tr th:only-of-type {\n",
       "        vertical-align: middle;\n",
       "    }\n",
       "\n",
       "    .dataframe tbody tr th {\n",
       "        vertical-align: top;\n",
       "    }\n",
       "\n",
       "    .dataframe thead th {\n",
       "        text-align: right;\n",
       "    }\n",
       "</style>\n",
       "<table border=\"1\" class=\"dataframe\">\n",
       "  <thead>\n",
       "    <tr style=\"text-align: right;\">\n",
       "      <th></th>\n",
       "      <th>fraudulent</th>\n",
       "      <th>customer</th>\n",
       "      <th>orders</th>\n",
       "      <th>paymentMethods</th>\n",
       "      <th>transactions</th>\n",
       "    </tr>\n",
       "  </thead>\n",
       "  <tbody>\n",
       "    <tr>\n",
       "      <th>67</th>\n",
       "      <td>False</td>\n",
       "      <td>{'customerEmail': 'dana23@lawrence.net', 'cust...</td>\n",
       "      <td>[]</td>\n",
       "      <td>[{'paymentMethodId': 'yte47y3ea', 'paymentMeth...</td>\n",
       "      <td>[]</td>\n",
       "    </tr>\n",
       "    <tr>\n",
       "      <th>75</th>\n",
       "      <td>False</td>\n",
       "      <td>{'customerEmail': 'bakersydney@gmail.com', 'cu...</td>\n",
       "      <td>[{'orderId': 'r55imo', 'orderAmount': 41, 'ord...</td>\n",
       "      <td>[{'paymentMethodId': '74rqcnogo', 'paymentMeth...</td>\n",
       "      <td>[{'transactionId': '4d21mp0y', 'orderId': 'r55...</td>\n",
       "    </tr>\n",
       "    <tr>\n",
       "      <th>125</th>\n",
       "      <td>False</td>\n",
       "      <td>{'customerEmail': 'wbeltran@ramirez-shaffer.co...</td>\n",
       "      <td>[]</td>\n",
       "      <td>[]</td>\n",
       "      <td>[]</td>\n",
       "    </tr>\n",
       "    <tr>\n",
       "      <th>52</th>\n",
       "      <td>False</td>\n",
       "      <td>{'customerEmail': 'nolanalec@yahoo.com', 'cust...</td>\n",
       "      <td>[{'orderId': '48pqsb', 'orderAmount': 31, 'ord...</td>\n",
       "      <td>[{'paymentMethodId': 'elpmqdsaw', 'paymentMeth...</td>\n",
       "      <td>[{'transactionId': 'uzxl7bjx', 'orderId': '48p...</td>\n",
       "    </tr>\n",
       "    <tr>\n",
       "      <th>60</th>\n",
       "      <td>True</td>\n",
       "      <td>{'customerEmail': 'joserowland@jones.com', 'cu...</td>\n",
       "      <td>[{'orderId': 'u5a84z', 'orderAmount': 31, 'ord...</td>\n",
       "      <td>[{'paymentMethodId': '1dsku2c3p', 'paymentMeth...</td>\n",
       "      <td>[{'transactionId': 'yjfirs14', 'orderId': 'u5a...</td>\n",
       "    </tr>\n",
       "  </tbody>\n",
       "</table>\n",
       "</div>"
      ],
      "text/plain": [
       "     fraudulent                                           customer  \\\n",
       "67        False  {'customerEmail': 'dana23@lawrence.net', 'cust...   \n",
       "75        False  {'customerEmail': 'bakersydney@gmail.com', 'cu...   \n",
       "125       False  {'customerEmail': 'wbeltran@ramirez-shaffer.co...   \n",
       "52        False  {'customerEmail': 'nolanalec@yahoo.com', 'cust...   \n",
       "60         True  {'customerEmail': 'joserowland@jones.com', 'cu...   \n",
       "\n",
       "                                                orders  \\\n",
       "67                                                  []   \n",
       "75   [{'orderId': 'r55imo', 'orderAmount': 41, 'ord...   \n",
       "125                                                 []   \n",
       "52   [{'orderId': '48pqsb', 'orderAmount': 31, 'ord...   \n",
       "60   [{'orderId': 'u5a84z', 'orderAmount': 31, 'ord...   \n",
       "\n",
       "                                        paymentMethods  \\\n",
       "67   [{'paymentMethodId': 'yte47y3ea', 'paymentMeth...   \n",
       "75   [{'paymentMethodId': '74rqcnogo', 'paymentMeth...   \n",
       "125                                                 []   \n",
       "52   [{'paymentMethodId': 'elpmqdsaw', 'paymentMeth...   \n",
       "60   [{'paymentMethodId': '1dsku2c3p', 'paymentMeth...   \n",
       "\n",
       "                                          transactions  \n",
       "67                                                  []  \n",
       "75   [{'transactionId': '4d21mp0y', 'orderId': 'r55...  \n",
       "125                                                 []  \n",
       "52   [{'transactionId': 'uzxl7bjx', 'orderId': '48p...  \n",
       "60   [{'transactionId': 'yjfirs14', 'orderId': 'u5a...  "
      ]
     },
     "execution_count": 4,
     "metadata": {},
     "output_type": "execute_result"
    }
   ],
   "source": [
    "customers_df.sample(5)"
   ]
  },
  {
   "cell_type": "markdown",
   "id": "499b6d1d-64be-43bc-95ba-98b559d5f0d2",
   "metadata": {},
   "source": [
    "## Unpack the data"
   ]
  },
  {
   "cell_type": "markdown",
   "id": "6395bbb8-1162-444e-b09d-b728779cee3f",
   "metadata": {},
   "source": [
    "### Customer data"
   ]
  },
  {
   "cell_type": "code",
   "execution_count": 5,
   "id": "43933b4e-8c8c-4a7c-b79e-bd9eaaced6cb",
   "metadata": {
    "execution": {
     "iopub.execute_input": "2024-03-11T13:27:57.400854Z",
     "iopub.status.busy": "2024-03-11T13:27:57.400402Z",
     "iopub.status.idle": "2024-03-11T13:27:57.473221Z",
     "shell.execute_reply": "2024-03-11T13:27:57.471563Z",
     "shell.execute_reply.started": "2024-03-11T13:27:57.400823Z"
    }
   },
   "outputs": [],
   "source": [
    "customer_df = customers_df['customer'].apply(pd.Series)"
   ]
  },
  {
   "cell_type": "code",
   "execution_count": 6,
   "id": "3047179f-fbae-4790-acf5-7f4eb6b598f3",
   "metadata": {
    "execution": {
     "iopub.execute_input": "2024-03-11T13:27:57.476246Z",
     "iopub.status.busy": "2024-03-11T13:27:57.475607Z",
     "iopub.status.idle": "2024-03-11T13:27:57.493484Z",
     "shell.execute_reply": "2024-03-11T13:27:57.491232Z",
     "shell.execute_reply.started": "2024-03-11T13:27:57.476197Z"
    },
    "tags": []
   },
   "outputs": [
    {
     "data": {
      "text/html": [
       "<div>\n",
       "<style scoped>\n",
       "    .dataframe tbody tr th:only-of-type {\n",
       "        vertical-align: middle;\n",
       "    }\n",
       "\n",
       "    .dataframe tbody tr th {\n",
       "        vertical-align: top;\n",
       "    }\n",
       "\n",
       "    .dataframe thead th {\n",
       "        text-align: right;\n",
       "    }\n",
       "</style>\n",
       "<table border=\"1\" class=\"dataframe\">\n",
       "  <thead>\n",
       "    <tr style=\"text-align: right;\">\n",
       "      <th></th>\n",
       "      <th>customerEmail</th>\n",
       "      <th>customerPhone</th>\n",
       "      <th>customerDevice</th>\n",
       "      <th>customerIPAddress</th>\n",
       "      <th>customerBillingAddress</th>\n",
       "    </tr>\n",
       "  </thead>\n",
       "  <tbody>\n",
       "    <tr>\n",
       "      <th>154</th>\n",
       "      <td>martinezlori@gmail.com</td>\n",
       "      <td>353.413.2223x82475</td>\n",
       "      <td>9ycz6r0ulpqtc04qxfke</td>\n",
       "      <td>d04c:1016:1b00:8a18:d9fc:5455:cae3:b97a</td>\n",
       "      <td>PSC 1505, Box 0924\\nAPO AP 49055</td>\n",
       "    </tr>\n",
       "    <tr>\n",
       "      <th>105</th>\n",
       "      <td>brooksdustin@knight.info</td>\n",
       "      <td>345.319.0722x7868</td>\n",
       "      <td>dhe9trcjv1fyr2vr18q2</td>\n",
       "      <td>172.69.105.137</td>\n",
       "      <td>8554 John Forge Apt. 284\\nPort Kimberlyburgh, ...</td>\n",
       "    </tr>\n",
       "    <tr>\n",
       "      <th>111</th>\n",
       "      <td>phillip89@gmail.com</td>\n",
       "      <td>649-150-0665</td>\n",
       "      <td>jyk9fawabmu0yi4ee69q</td>\n",
       "      <td>2.47.31.110</td>\n",
       "      <td>2672 Jeffrey Cove\\nMichaelport, ND 40991-4174</td>\n",
       "    </tr>\n",
       "    <tr>\n",
       "      <th>145</th>\n",
       "      <td>victorgarcia@gmail.com</td>\n",
       "      <td>937-523-6702x7281</td>\n",
       "      <td>1597k0yfivb94139vcj0</td>\n",
       "      <td>184.74.109.237</td>\n",
       "      <td>PSC 9769, Box 5820\\nAPO AP 17294</td>\n",
       "    </tr>\n",
       "    <tr>\n",
       "      <th>88</th>\n",
       "      <td>shelby24@hotmail.com</td>\n",
       "      <td>(071)934-3315x27613</td>\n",
       "      <td>obb41ux0zfa2td5ajo9s</td>\n",
       "      <td>45.203.99.249</td>\n",
       "      <td>3271 Cynthia Groves\\nPort Jeremyberg, CO 27305</td>\n",
       "    </tr>\n",
       "  </tbody>\n",
       "</table>\n",
       "</div>"
      ],
      "text/plain": [
       "                customerEmail        customerPhone        customerDevice  \\\n",
       "154    martinezlori@gmail.com   353.413.2223x82475  9ycz6r0ulpqtc04qxfke   \n",
       "105  brooksdustin@knight.info    345.319.0722x7868  dhe9trcjv1fyr2vr18q2   \n",
       "111       phillip89@gmail.com         649-150-0665  jyk9fawabmu0yi4ee69q   \n",
       "145    victorgarcia@gmail.com    937-523-6702x7281  1597k0yfivb94139vcj0   \n",
       "88       shelby24@hotmail.com  (071)934-3315x27613  obb41ux0zfa2td5ajo9s   \n",
       "\n",
       "                           customerIPAddress  \\\n",
       "154  d04c:1016:1b00:8a18:d9fc:5455:cae3:b97a   \n",
       "105                           172.69.105.137   \n",
       "111                              2.47.31.110   \n",
       "145                           184.74.109.237   \n",
       "88                             45.203.99.249   \n",
       "\n",
       "                                customerBillingAddress  \n",
       "154                   PSC 1505, Box 0924\\nAPO AP 49055  \n",
       "105  8554 John Forge Apt. 284\\nPort Kimberlyburgh, ...  \n",
       "111      2672 Jeffrey Cove\\nMichaelport, ND 40991-4174  \n",
       "145                   PSC 9769, Box 5820\\nAPO AP 17294  \n",
       "88      3271 Cynthia Groves\\nPort Jeremyberg, CO 27305  "
      ]
     },
     "execution_count": 6,
     "metadata": {},
     "output_type": "execute_result"
    }
   ],
   "source": [
    "customer_df.sample(5)"
   ]
  },
  {
   "cell_type": "markdown",
   "id": "dc8b4153-4665-436c-8a19-cbd4fb240c58",
   "metadata": {},
   "source": [
    "### Orders data"
   ]
  },
  {
   "cell_type": "code",
   "execution_count": 7,
   "id": "f170a305-5e19-4b50-8825-c0972fe5dd61",
   "metadata": {
    "execution": {
     "iopub.execute_input": "2024-03-11T13:27:57.496347Z",
     "iopub.status.busy": "2024-03-11T13:27:57.495671Z",
     "iopub.status.idle": "2024-03-11T13:27:57.722808Z",
     "shell.execute_reply": "2024-03-11T13:27:57.722032Z",
     "shell.execute_reply.started": "2024-03-11T13:27:57.496293Z"
    },
    "tags": []
   },
   "outputs": [],
   "source": [
    "orders_df = customers_df['orders'].explode().apply(pd.Series).drop(columns=[0])"
   ]
  },
  {
   "cell_type": "code",
   "execution_count": 8,
   "id": "3bca6355-a6c2-4a65-b570-f20e0096efc5",
   "metadata": {
    "execution": {
     "iopub.execute_input": "2024-03-11T13:27:57.724644Z",
     "iopub.status.busy": "2024-03-11T13:27:57.723899Z",
     "iopub.status.idle": "2024-03-11T13:27:57.735374Z",
     "shell.execute_reply": "2024-03-11T13:27:57.734557Z",
     "shell.execute_reply.started": "2024-03-11T13:27:57.724591Z"
    }
   },
   "outputs": [
    {
     "data": {
      "text/html": [
       "<div>\n",
       "<style scoped>\n",
       "    .dataframe tbody tr th:only-of-type {\n",
       "        vertical-align: middle;\n",
       "    }\n",
       "\n",
       "    .dataframe tbody tr th {\n",
       "        vertical-align: top;\n",
       "    }\n",
       "\n",
       "    .dataframe thead th {\n",
       "        text-align: right;\n",
       "    }\n",
       "</style>\n",
       "<table border=\"1\" class=\"dataframe\">\n",
       "  <thead>\n",
       "    <tr style=\"text-align: right;\">\n",
       "      <th></th>\n",
       "      <th>orderId</th>\n",
       "      <th>orderAmount</th>\n",
       "      <th>orderState</th>\n",
       "      <th>orderShippingAddress</th>\n",
       "    </tr>\n",
       "  </thead>\n",
       "  <tbody>\n",
       "    <tr>\n",
       "      <th>158</th>\n",
       "      <td>shluih</td>\n",
       "      <td>21.0</td>\n",
       "      <td>fulfilled</td>\n",
       "      <td>62659 Jonathon Prairie\\nPort Daniel, OR 82463-...</td>\n",
       "    </tr>\n",
       "    <tr>\n",
       "      <th>50</th>\n",
       "      <td>iaousp</td>\n",
       "      <td>51.0</td>\n",
       "      <td>fulfilled</td>\n",
       "      <td>5769 Ronald Brook Suite 963\\nLake Jasonfurt, M...</td>\n",
       "    </tr>\n",
       "    <tr>\n",
       "      <th>79</th>\n",
       "      <td>p1yimo</td>\n",
       "      <td>34.0</td>\n",
       "      <td>fulfilled</td>\n",
       "      <td>814 Wagner Union\\nAshleymouth, HI 35617</td>\n",
       "    </tr>\n",
       "    <tr>\n",
       "      <th>17</th>\n",
       "      <td>28xxko</td>\n",
       "      <td>34.0</td>\n",
       "      <td>pending</td>\n",
       "      <td>6174 Nicholas Cliffs Suite 855\\nWebsterview, M...</td>\n",
       "    </tr>\n",
       "    <tr>\n",
       "      <th>62</th>\n",
       "      <td>qfteet</td>\n",
       "      <td>12.0</td>\n",
       "      <td>failed</td>\n",
       "      <td>872 Ashley Island Apt. 254\\nEast Anthonytown, ...</td>\n",
       "    </tr>\n",
       "  </tbody>\n",
       "</table>\n",
       "</div>"
      ],
      "text/plain": [
       "    orderId  orderAmount orderState  \\\n",
       "158  shluih         21.0  fulfilled   \n",
       "50   iaousp         51.0  fulfilled   \n",
       "79   p1yimo         34.0  fulfilled   \n",
       "17   28xxko         34.0    pending   \n",
       "62   qfteet         12.0     failed   \n",
       "\n",
       "                                  orderShippingAddress  \n",
       "158  62659 Jonathon Prairie\\nPort Daniel, OR 82463-...  \n",
       "50   5769 Ronald Brook Suite 963\\nLake Jasonfurt, M...  \n",
       "79             814 Wagner Union\\nAshleymouth, HI 35617  \n",
       "17   6174 Nicholas Cliffs Suite 855\\nWebsterview, M...  \n",
       "62   872 Ashley Island Apt. 254\\nEast Anthonytown, ...  "
      ]
     },
     "execution_count": 8,
     "metadata": {},
     "output_type": "execute_result"
    }
   ],
   "source": [
    "orders_df.sample(5)"
   ]
  },
  {
   "cell_type": "markdown",
   "id": "7db0e5d5-8963-4521-9a42-d40e64272cf5",
   "metadata": {},
   "source": [
    "### Payment methods"
   ]
  },
  {
   "cell_type": "code",
   "execution_count": 9,
   "id": "0d0f6c61-1c29-4461-a2a2-9f2689c113c7",
   "metadata": {
    "execution": {
     "iopub.execute_input": "2024-03-11T13:27:57.740745Z",
     "iopub.status.busy": "2024-03-11T13:27:57.740337Z",
     "iopub.status.idle": "2024-03-11T13:27:57.854426Z",
     "shell.execute_reply": "2024-03-11T13:27:57.853577Z",
     "shell.execute_reply.started": "2024-03-11T13:27:57.740712Z"
    }
   },
   "outputs": [],
   "source": [
    "payment_methods_df = customers_df['paymentMethods'].explode().apply(pd.Series).drop(columns=[0])"
   ]
  },
  {
   "cell_type": "code",
   "execution_count": 10,
   "id": "6a739a2e-c5c7-4df5-85e0-2640f4cf6cf0",
   "metadata": {
    "execution": {
     "iopub.execute_input": "2024-03-11T13:27:57.856238Z",
     "iopub.status.busy": "2024-03-11T13:27:57.855610Z",
     "iopub.status.idle": "2024-03-11T13:27:57.866032Z",
     "shell.execute_reply": "2024-03-11T13:27:57.864835Z",
     "shell.execute_reply.started": "2024-03-11T13:27:57.856209Z"
    }
   },
   "outputs": [
    {
     "data": {
      "text/html": [
       "<div>\n",
       "<style scoped>\n",
       "    .dataframe tbody tr th:only-of-type {\n",
       "        vertical-align: middle;\n",
       "    }\n",
       "\n",
       "    .dataframe tbody tr th {\n",
       "        vertical-align: top;\n",
       "    }\n",
       "\n",
       "    .dataframe thead th {\n",
       "        text-align: right;\n",
       "    }\n",
       "</style>\n",
       "<table border=\"1\" class=\"dataframe\">\n",
       "  <thead>\n",
       "    <tr style=\"text-align: right;\">\n",
       "      <th></th>\n",
       "      <th>paymentMethodId</th>\n",
       "      <th>paymentMethodRegistrationFailure</th>\n",
       "      <th>paymentMethodType</th>\n",
       "      <th>paymentMethodProvider</th>\n",
       "      <th>paymentMethodIssuer</th>\n",
       "    </tr>\n",
       "  </thead>\n",
       "  <tbody>\n",
       "    <tr>\n",
       "      <th>48</th>\n",
       "      <td>h2awlopgd</td>\n",
       "      <td>False</td>\n",
       "      <td>apple pay</td>\n",
       "      <td>JCB 16 digit</td>\n",
       "      <td>Bulwark Trust Corp.</td>\n",
       "    </tr>\n",
       "    <tr>\n",
       "      <th>72</th>\n",
       "      <td>rbkqo2mz8</td>\n",
       "      <td>False</td>\n",
       "      <td>card</td>\n",
       "      <td>VISA 16 digit</td>\n",
       "      <td>Bulwark Trust Corp.</td>\n",
       "    </tr>\n",
       "    <tr>\n",
       "      <th>46</th>\n",
       "      <td>suusse06u</td>\n",
       "      <td>False</td>\n",
       "      <td>card</td>\n",
       "      <td>VISA 13 digit</td>\n",
       "      <td>His Majesty Bank Corp.</td>\n",
       "    </tr>\n",
       "    <tr>\n",
       "      <th>140</th>\n",
       "      <td>9jt0mza2r</td>\n",
       "      <td>False</td>\n",
       "      <td>card</td>\n",
       "      <td>VISA 13 digit</td>\n",
       "      <td>Bastion Banks</td>\n",
       "    </tr>\n",
       "    <tr>\n",
       "      <th>38</th>\n",
       "      <td>NaN</td>\n",
       "      <td>NaN</td>\n",
       "      <td>NaN</td>\n",
       "      <td>NaN</td>\n",
       "      <td>NaN</td>\n",
       "    </tr>\n",
       "  </tbody>\n",
       "</table>\n",
       "</div>"
      ],
      "text/plain": [
       "    paymentMethodId paymentMethodRegistrationFailure paymentMethodType  \\\n",
       "48        h2awlopgd                            False         apple pay   \n",
       "72        rbkqo2mz8                            False              card   \n",
       "46        suusse06u                            False              card   \n",
       "140       9jt0mza2r                            False              card   \n",
       "38              NaN                              NaN               NaN   \n",
       "\n",
       "    paymentMethodProvider     paymentMethodIssuer  \n",
       "48           JCB 16 digit     Bulwark Trust Corp.  \n",
       "72          VISA 16 digit     Bulwark Trust Corp.  \n",
       "46          VISA 13 digit  His Majesty Bank Corp.  \n",
       "140         VISA 13 digit           Bastion Banks  \n",
       "38                    NaN                     NaN  "
      ]
     },
     "execution_count": 10,
     "metadata": {},
     "output_type": "execute_result"
    }
   ],
   "source": [
    "payment_methods_df.sample(5)"
   ]
  },
  {
   "cell_type": "markdown",
   "id": "b725ee4d-5946-4b16-a39a-fbdf3932b284",
   "metadata": {},
   "source": [
    "### Transactions data"
   ]
  },
  {
   "cell_type": "code",
   "execution_count": 11,
   "id": "0e58c88e-dc21-49f0-94f1-c3aaee580137",
   "metadata": {
    "execution": {
     "iopub.execute_input": "2024-03-11T13:27:57.867900Z",
     "iopub.status.busy": "2024-03-11T13:27:57.867358Z",
     "iopub.status.idle": "2024-03-11T13:27:58.091622Z",
     "shell.execute_reply": "2024-03-11T13:27:58.089735Z",
     "shell.execute_reply.started": "2024-03-11T13:27:57.867854Z"
    }
   },
   "outputs": [],
   "source": [
    "transactions_df = customers_df['transactions'].explode().apply(pd.Series).drop(columns=[0])"
   ]
  },
  {
   "cell_type": "code",
   "execution_count": 12,
   "id": "019a1a08-eb3f-4bc4-a7f9-a378ab9adc91",
   "metadata": {
    "execution": {
     "iopub.execute_input": "2024-03-11T13:27:58.094268Z",
     "iopub.status.busy": "2024-03-11T13:27:58.093398Z",
     "iopub.status.idle": "2024-03-11T13:27:58.103812Z",
     "shell.execute_reply": "2024-03-11T13:27:58.103040Z",
     "shell.execute_reply.started": "2024-03-11T13:27:58.094231Z"
    },
    "tags": []
   },
   "outputs": [
    {
     "data": {
      "text/html": [
       "<div>\n",
       "<style scoped>\n",
       "    .dataframe tbody tr th:only-of-type {\n",
       "        vertical-align: middle;\n",
       "    }\n",
       "\n",
       "    .dataframe tbody tr th {\n",
       "        vertical-align: top;\n",
       "    }\n",
       "\n",
       "    .dataframe thead th {\n",
       "        text-align: right;\n",
       "    }\n",
       "</style>\n",
       "<table border=\"1\" class=\"dataframe\">\n",
       "  <thead>\n",
       "    <tr style=\"text-align: right;\">\n",
       "      <th></th>\n",
       "      <th>transactionId</th>\n",
       "      <th>orderId</th>\n",
       "      <th>paymentMethodId</th>\n",
       "      <th>transactionAmount</th>\n",
       "      <th>transactionFailed</th>\n",
       "    </tr>\n",
       "  </thead>\n",
       "  <tbody>\n",
       "    <tr>\n",
       "      <th>7</th>\n",
       "      <td>crwqqfpi</td>\n",
       "      <td>7fs5td</td>\n",
       "      <td>yxsf33ipw</td>\n",
       "      <td>68.0</td>\n",
       "      <td>False</td>\n",
       "    </tr>\n",
       "    <tr>\n",
       "      <th>106</th>\n",
       "      <td>zzg2ywpl</td>\n",
       "      <td>w936ae</td>\n",
       "      <td>4wf6hh0n2</td>\n",
       "      <td>42.0</td>\n",
       "      <td>False</td>\n",
       "    </tr>\n",
       "    <tr>\n",
       "      <th>81</th>\n",
       "      <td>mco06mub</td>\n",
       "      <td>j5ssnn</td>\n",
       "      <td>895soyhh1</td>\n",
       "      <td>27.0</td>\n",
       "      <td>True</td>\n",
       "    </tr>\n",
       "    <tr>\n",
       "      <th>141</th>\n",
       "      <td>xo0ezry0</td>\n",
       "      <td>320w72</td>\n",
       "      <td>1dcru1vlg</td>\n",
       "      <td>35.0</td>\n",
       "      <td>False</td>\n",
       "    </tr>\n",
       "    <tr>\n",
       "      <th>116</th>\n",
       "      <td>NaN</td>\n",
       "      <td>NaN</td>\n",
       "      <td>NaN</td>\n",
       "      <td>NaN</td>\n",
       "      <td>NaN</td>\n",
       "    </tr>\n",
       "  </tbody>\n",
       "</table>\n",
       "</div>"
      ],
      "text/plain": [
       "    transactionId orderId paymentMethodId  transactionAmount transactionFailed\n",
       "7        crwqqfpi  7fs5td       yxsf33ipw               68.0             False\n",
       "106      zzg2ywpl  w936ae       4wf6hh0n2               42.0             False\n",
       "81       mco06mub  j5ssnn       895soyhh1               27.0              True\n",
       "141      xo0ezry0  320w72       1dcru1vlg               35.0             False\n",
       "116           NaN     NaN             NaN                NaN               NaN"
      ]
     },
     "execution_count": 12,
     "metadata": {},
     "output_type": "execute_result"
    }
   ],
   "source": [
    "transactions_df.sample(5)"
   ]
  },
  {
   "cell_type": "markdown",
   "id": "dfb2ca72-5287-4516-be97-2cdd941da8e3",
   "metadata": {},
   "source": [
    "## Merge data"
   ]
  },
  {
   "cell_type": "code",
   "execution_count": 13,
   "id": "b3471bc1-88c5-4770-b0a5-879e6ecc9de9",
   "metadata": {
    "execution": {
     "iopub.execute_input": "2024-03-11T13:27:58.105919Z",
     "iopub.status.busy": "2024-03-11T13:27:58.105278Z",
     "iopub.status.idle": "2024-03-11T13:27:58.113624Z",
     "shell.execute_reply": "2024-03-11T13:27:58.112363Z",
     "shell.execute_reply.started": "2024-03-11T13:27:58.105886Z"
    },
    "tags": []
   },
   "outputs": [],
   "source": [
    "customer_df = customers_df[['fraudulent']].merge(customer_df, left_index=True, right_index=True)"
   ]
  },
  {
   "cell_type": "markdown",
   "id": "7b943e05-5a26-4af4-82c4-cbd2985e7bc4",
   "metadata": {},
   "source": [
    "# Analyse data"
   ]
  },
  {
   "cell_type": "code",
   "execution_count": 14,
   "id": "a8a84b93-5fee-4906-b4f8-2b34cc16c7aa",
   "metadata": {
    "execution": {
     "iopub.execute_input": "2024-03-11T13:27:58.114950Z",
     "iopub.status.busy": "2024-03-11T13:27:58.114429Z",
     "iopub.status.idle": "2024-03-11T13:27:58.122675Z",
     "shell.execute_reply": "2024-03-11T13:27:58.121824Z",
     "shell.execute_reply.started": "2024-03-11T13:27:58.114909Z"
    },
    "tags": []
   },
   "outputs": [
    {
     "data": {
      "text/plain": [
       "False    107\n",
       "True      61\n",
       "Name: fraudulent, dtype: int64"
      ]
     },
     "execution_count": 14,
     "metadata": {},
     "output_type": "execute_result"
    }
   ],
   "source": [
    "customer_df.fraudulent.value_counts()"
   ]
  },
  {
   "cell_type": "code",
   "execution_count": 15,
   "id": "ed0c899c-7fdc-46e1-aed4-effc5fbd98d6",
   "metadata": {
    "execution": {
     "iopub.execute_input": "2024-03-11T13:27:58.124881Z",
     "iopub.status.busy": "2024-03-11T13:27:58.124165Z",
     "iopub.status.idle": "2024-03-11T13:27:58.133023Z",
     "shell.execute_reply": "2024-03-11T13:27:58.132106Z",
     "shell.execute_reply.started": "2024-03-11T13:27:58.124828Z"
    },
    "tags": []
   },
   "outputs": [
    {
     "data": {
      "text/plain": [
       "False    0.636905\n",
       "True     0.363095\n",
       "Name: fraudulent, dtype: float64"
      ]
     },
     "execution_count": 15,
     "metadata": {},
     "output_type": "execute_result"
    }
   ],
   "source": [
    "customer_df.fraudulent.value_counts(normalize=True)"
   ]
  },
  {
   "cell_type": "markdown",
   "id": "527767eb-0de3-4beb-b79f-d9c54a175dcd",
   "metadata": {},
   "source": [
    "**More than 1/3 of all users are fraudulent.**"
   ]
  },
  {
   "cell_type": "markdown",
   "id": "99e27fd3-fbeb-47c0-a0df-e980f7c790c6",
   "metadata": {},
   "source": [
    "## Customer data"
   ]
  },
  {
   "cell_type": "code",
   "execution_count": 16,
   "id": "bd7c37a7-8deb-4ad2-9c88-2096ef314e7f",
   "metadata": {
    "execution": {
     "iopub.execute_input": "2024-03-11T13:27:58.134686Z",
     "iopub.status.busy": "2024-03-11T13:27:58.134085Z",
     "iopub.status.idle": "2024-03-11T13:27:58.148309Z",
     "shell.execute_reply": "2024-03-11T13:27:58.146855Z",
     "shell.execute_reply.started": "2024-03-11T13:27:58.134650Z"
    }
   },
   "outputs": [
    {
     "data": {
      "text/html": [
       "<div>\n",
       "<style scoped>\n",
       "    .dataframe tbody tr th:only-of-type {\n",
       "        vertical-align: middle;\n",
       "    }\n",
       "\n",
       "    .dataframe tbody tr th {\n",
       "        vertical-align: top;\n",
       "    }\n",
       "\n",
       "    .dataframe thead th {\n",
       "        text-align: right;\n",
       "    }\n",
       "</style>\n",
       "<table border=\"1\" class=\"dataframe\">\n",
       "  <thead>\n",
       "    <tr style=\"text-align: right;\">\n",
       "      <th></th>\n",
       "      <th>fraudulent</th>\n",
       "      <th>customerEmail</th>\n",
       "      <th>customerPhone</th>\n",
       "      <th>customerDevice</th>\n",
       "      <th>customerIPAddress</th>\n",
       "      <th>customerBillingAddress</th>\n",
       "    </tr>\n",
       "  </thead>\n",
       "  <tbody>\n",
       "    <tr>\n",
       "      <th>87</th>\n",
       "      <td>False</td>\n",
       "      <td>tayloreric@gmail.com</td>\n",
       "      <td>1-160-137-7889x74832</td>\n",
       "      <td>sjoj10iss04dq90i4w7x</td>\n",
       "      <td>3.75.86.140</td>\n",
       "      <td>3195 Farmer Mills Apt. 946\\nBrittanymouth, IA ...</td>\n",
       "    </tr>\n",
       "    <tr>\n",
       "      <th>51</th>\n",
       "      <td>False</td>\n",
       "      <td>whodges@yahoo.com</td>\n",
       "      <td>791-857-3838x784</td>\n",
       "      <td>c0zsrf0sna9bkdhncxk3</td>\n",
       "      <td>26a2:b5fa:e76c:cf72:577b:ea46:3b20:16b0</td>\n",
       "      <td>839 Heather Mall Suite 257\\nLake Robert, AL 60...</td>\n",
       "    </tr>\n",
       "  </tbody>\n",
       "</table>\n",
       "</div>"
      ],
      "text/plain": [
       "    fraudulent         customerEmail         customerPhone  \\\n",
       "87       False  tayloreric@gmail.com  1-160-137-7889x74832   \n",
       "51       False     whodges@yahoo.com      791-857-3838x784   \n",
       "\n",
       "          customerDevice                        customerIPAddress  \\\n",
       "87  sjoj10iss04dq90i4w7x                              3.75.86.140   \n",
       "51  c0zsrf0sna9bkdhncxk3  26a2:b5fa:e76c:cf72:577b:ea46:3b20:16b0   \n",
       "\n",
       "                               customerBillingAddress  \n",
       "87  3195 Farmer Mills Apt. 946\\nBrittanymouth, IA ...  \n",
       "51  839 Heather Mall Suite 257\\nLake Robert, AL 60...  "
      ]
     },
     "execution_count": 16,
     "metadata": {},
     "output_type": "execute_result"
    }
   ],
   "source": [
    "customer_df.sample(2)"
   ]
  },
  {
   "cell_type": "code",
   "execution_count": 17,
   "id": "519f5d24-5622-4f26-b10b-e340d0b4e314",
   "metadata": {
    "execution": {
     "iopub.execute_input": "2024-03-11T13:27:58.150630Z",
     "iopub.status.busy": "2024-03-11T13:27:58.150236Z",
     "iopub.status.idle": "2024-03-11T13:27:58.173694Z",
     "shell.execute_reply": "2024-03-11T13:27:58.172712Z",
     "shell.execute_reply.started": "2024-03-11T13:27:58.150599Z"
    },
    "tags": []
   },
   "outputs": [
    {
     "data": {
      "text/html": [
       "<div>\n",
       "<style scoped>\n",
       "    .dataframe tbody tr th:only-of-type {\n",
       "        vertical-align: middle;\n",
       "    }\n",
       "\n",
       "    .dataframe tbody tr th {\n",
       "        vertical-align: top;\n",
       "    }\n",
       "\n",
       "    .dataframe thead th {\n",
       "        text-align: right;\n",
       "    }\n",
       "</style>\n",
       "<table border=\"1\" class=\"dataframe\">\n",
       "  <thead>\n",
       "    <tr style=\"text-align: right;\">\n",
       "      <th></th>\n",
       "      <th>fraudulent</th>\n",
       "      <th>customerEmail</th>\n",
       "      <th>customerPhone</th>\n",
       "      <th>customerDevice</th>\n",
       "      <th>customerIPAddress</th>\n",
       "      <th>customerBillingAddress</th>\n",
       "    </tr>\n",
       "  </thead>\n",
       "  <tbody>\n",
       "    <tr>\n",
       "      <th>count</th>\n",
       "      <td>168</td>\n",
       "      <td>168</td>\n",
       "      <td>168</td>\n",
       "      <td>168</td>\n",
       "      <td>168</td>\n",
       "      <td>168</td>\n",
       "    </tr>\n",
       "    <tr>\n",
       "      <th>unique</th>\n",
       "      <td>2</td>\n",
       "      <td>161</td>\n",
       "      <td>168</td>\n",
       "      <td>168</td>\n",
       "      <td>165</td>\n",
       "      <td>166</td>\n",
       "    </tr>\n",
       "    <tr>\n",
       "      <th>top</th>\n",
       "      <td>False</td>\n",
       "      <td>johnlowery@gmail.com</td>\n",
       "      <td>400-108-5415</td>\n",
       "      <td>yyeiaxpltf82440jnb3v</td>\n",
       "      <td>45.203.99.249</td>\n",
       "      <td>49680 Brian Squares Apt. 122\\nPort Walterburgh...</td>\n",
       "    </tr>\n",
       "    <tr>\n",
       "      <th>freq</th>\n",
       "      <td>107</td>\n",
       "      <td>8</td>\n",
       "      <td>1</td>\n",
       "      <td>1</td>\n",
       "      <td>4</td>\n",
       "      <td>3</td>\n",
       "    </tr>\n",
       "  </tbody>\n",
       "</table>\n",
       "</div>"
      ],
      "text/plain": [
       "       fraudulent         customerEmail customerPhone        customerDevice  \\\n",
       "count         168                   168           168                   168   \n",
       "unique          2                   161           168                   168   \n",
       "top         False  johnlowery@gmail.com  400-108-5415  yyeiaxpltf82440jnb3v   \n",
       "freq          107                     8             1                     1   \n",
       "\n",
       "       customerIPAddress                             customerBillingAddress  \n",
       "count                168                                                168  \n",
       "unique               165                                                166  \n",
       "top        45.203.99.249  49680 Brian Squares Apt. 122\\nPort Walterburgh...  \n",
       "freq                   4                                                  3  "
      ]
     },
     "execution_count": 17,
     "metadata": {},
     "output_type": "execute_result"
    }
   ],
   "source": [
    "customer_df.describe(include='all')"
   ]
  },
  {
   "cell_type": "markdown",
   "id": "4ca82b85-17dd-4707-ab8a-fb5ccb5acffa",
   "metadata": {},
   "source": [
    "All devices numbers are unique. Also phone numbers seem to be unique, but it's worth cleaning them (different format, strip extentions, etc.) and verify again.\n",
    "\n",
    "Interestingly, emails, IP addreesses and billing addresses are not unique. It's investigate verify those."
   ]
  },
  {
   "cell_type": "markdown",
   "id": "49afa319-00a0-4ec8-ab4a-03c92ef9d300",
   "metadata": {},
   "source": [
    "### Verify duplicated data"
   ]
  },
  {
   "cell_type": "markdown",
   "id": "5855d314-3c82-43a3-8579-7cb00b8811ec",
   "metadata": {},
   "source": [
    "#### Email addresses"
   ]
  },
  {
   "cell_type": "code",
   "execution_count": 18,
   "id": "706e5851-4cb6-4b98-aac0-b5dbf90e6f4a",
   "metadata": {
    "execution": {
     "iopub.execute_input": "2024-03-11T13:27:58.175901Z",
     "iopub.status.busy": "2024-03-11T13:27:58.175450Z",
     "iopub.status.idle": "2024-03-11T13:27:58.183816Z",
     "shell.execute_reply": "2024-03-11T13:27:58.182791Z",
     "shell.execute_reply.started": "2024-03-11T13:27:58.175850Z"
    },
    "tags": []
   },
   "outputs": [
    {
     "data": {
      "text/plain": [
       "johnlowery@gmail.com      8\n",
       "josephhoward@yahoo.com    1\n",
       "marywalker@gmail.com      1\n",
       "vreyes@cruz.info          1\n",
       "3fooiar@6eph              1\n",
       "Name: customerEmail, dtype: int64"
      ]
     },
     "execution_count": 18,
     "metadata": {},
     "output_type": "execute_result"
    }
   ],
   "source": [
    "customer_df.customerEmail.value_counts().head()"
   ]
  },
  {
   "cell_type": "code",
   "execution_count": 19,
   "id": "377ef98f-1f74-4669-a781-d80453079e88",
   "metadata": {
    "execution": {
     "iopub.execute_input": "2024-03-11T13:27:58.185881Z",
     "iopub.status.busy": "2024-03-11T13:27:58.185509Z",
     "iopub.status.idle": "2024-03-11T13:27:58.194580Z",
     "shell.execute_reply": "2024-03-11T13:27:58.193680Z",
     "shell.execute_reply.started": "2024-03-11T13:27:58.185849Z"
    },
    "tags": []
   },
   "outputs": [
    {
     "data": {
      "text/plain": [
       "True    8\n",
       "Name: fraudulent, dtype: int64"
      ]
     },
     "execution_count": 19,
     "metadata": {},
     "output_type": "execute_result"
    }
   ],
   "source": [
    "customer_df[customer_df['customerEmail'] == 'johnlowery@gmail.com']['fraudulent'].value_counts()"
   ]
  },
  {
   "cell_type": "code",
   "execution_count": 20,
   "id": "28ca414b-f02a-4af9-9da2-097f1bd4035a",
   "metadata": {
    "execution": {
     "iopub.execute_input": "2024-03-11T13:27:58.196756Z",
     "iopub.status.busy": "2024-03-11T13:27:58.196385Z",
     "iopub.status.idle": "2024-03-11T13:27:58.209895Z",
     "shell.execute_reply": "2024-03-11T13:27:58.209108Z",
     "shell.execute_reply.started": "2024-03-11T13:27:58.196729Z"
    },
    "tags": []
   },
   "outputs": [
    {
     "data": {
      "text/html": [
       "<div>\n",
       "<style scoped>\n",
       "    .dataframe tbody tr th:only-of-type {\n",
       "        vertical-align: middle;\n",
       "    }\n",
       "\n",
       "    .dataframe tbody tr th {\n",
       "        vertical-align: top;\n",
       "    }\n",
       "\n",
       "    .dataframe thead th {\n",
       "        text-align: right;\n",
       "    }\n",
       "</style>\n",
       "<table border=\"1\" class=\"dataframe\">\n",
       "  <thead>\n",
       "    <tr style=\"text-align: right;\">\n",
       "      <th></th>\n",
       "      <th>fraudulent</th>\n",
       "      <th>customerEmail</th>\n",
       "      <th>customerPhone</th>\n",
       "      <th>customerDevice</th>\n",
       "      <th>customerIPAddress</th>\n",
       "      <th>customerBillingAddress</th>\n",
       "    </tr>\n",
       "  </thead>\n",
       "  <tbody>\n",
       "    <tr>\n",
       "      <th>7</th>\n",
       "      <td>True</td>\n",
       "      <td>johnlowery@gmail.com</td>\n",
       "      <td>044-642-9860</td>\n",
       "      <td>rjb0adai34izqvys4938</td>\n",
       "      <td>212.144.68.190</td>\n",
       "      <td>484 Pamela Pass\\nLake Jessicaview, WI 12942-9074</td>\n",
       "    </tr>\n",
       "    <tr>\n",
       "      <th>40</th>\n",
       "      <td>True</td>\n",
       "      <td>johnlowery@gmail.com</td>\n",
       "      <td>737-377-9701x577</td>\n",
       "      <td>jz66ap43id2y35ivfqa5</td>\n",
       "      <td>6c21:ac1d:2089:68fa:abb7:8c00:525f:6588</td>\n",
       "      <td>08238 Kyle Squares Suite 893\\nMillermouth, IN ...</td>\n",
       "    </tr>\n",
       "    <tr>\n",
       "      <th>45</th>\n",
       "      <td>True</td>\n",
       "      <td>johnlowery@gmail.com</td>\n",
       "      <td>+16(4)9016414340</td>\n",
       "      <td>cdx178qymd6vy77nm4x3</td>\n",
       "      <td>222.79.159.140</td>\n",
       "      <td>77711 Pamela Ridge\\nNew Kayla, IL 27182</td>\n",
       "    </tr>\n",
       "    <tr>\n",
       "      <th>65</th>\n",
       "      <td>True</td>\n",
       "      <td>johnlowery@gmail.com</td>\n",
       "      <td>04712252182</td>\n",
       "      <td>311kdz4c1210iixltk2j</td>\n",
       "      <td>42b3:df19:86fe:abd9:dafe:f6c1:eb76:c72</td>\n",
       "      <td>11704 Andrew Villages Apt. 035\\nJamesfurt, OR ...</td>\n",
       "    </tr>\n",
       "    <tr>\n",
       "      <th>79</th>\n",
       "      <td>True</td>\n",
       "      <td>johnlowery@gmail.com</td>\n",
       "      <td>1-820-539-4726x993</td>\n",
       "      <td>2in0fh7lep289n8dcbdz</td>\n",
       "      <td>163.128.139.42</td>\n",
       "      <td>814 Wagner Union\\nAshleymouth, HI 35617</td>\n",
       "    </tr>\n",
       "    <tr>\n",
       "      <th>133</th>\n",
       "      <td>True</td>\n",
       "      <td>johnlowery@gmail.com</td>\n",
       "      <td>1-143-059-1833</td>\n",
       "      <td>tyijaify2hqadwslejyr</td>\n",
       "      <td>e4c:fb48:8ee2:9819:6ae8:8d3f:3b6a:a788</td>\n",
       "      <td>518 Wood Mews Apt. 970\\nDillonstad, NE 43317-3945</td>\n",
       "    </tr>\n",
       "    <tr>\n",
       "      <th>155</th>\n",
       "      <td>True</td>\n",
       "      <td>johnlowery@gmail.com</td>\n",
       "      <td>076-099-0630x72770</td>\n",
       "      <td>6qy6oa3nqutsyyxzc54c</td>\n",
       "      <td>f259:657f:f329:2fca:c06c:8b57:d6ac:2380</td>\n",
       "      <td>687 Rogers Bridge Suite 780\\nValdezburgh, IN 2...</td>\n",
       "    </tr>\n",
       "    <tr>\n",
       "      <th>165</th>\n",
       "      <td>True</td>\n",
       "      <td>johnlowery@gmail.com</td>\n",
       "      <td>635.676.0955x524</td>\n",
       "      <td>969zz9zdj8z4gns4sx5p</td>\n",
       "      <td>f82c:811f:8a02:e2d6:79b:fcaa:42de:570b</td>\n",
       "      <td>548 Bryant Inlet\\nVeronicaside, OK 00522</td>\n",
       "    </tr>\n",
       "  </tbody>\n",
       "</table>\n",
       "</div>"
      ],
      "text/plain": [
       "     fraudulent         customerEmail       customerPhone  \\\n",
       "7          True  johnlowery@gmail.com        044-642-9860   \n",
       "40         True  johnlowery@gmail.com    737-377-9701x577   \n",
       "45         True  johnlowery@gmail.com    +16(4)9016414340   \n",
       "65         True  johnlowery@gmail.com         04712252182   \n",
       "79         True  johnlowery@gmail.com  1-820-539-4726x993   \n",
       "133        True  johnlowery@gmail.com      1-143-059-1833   \n",
       "155        True  johnlowery@gmail.com  076-099-0630x72770   \n",
       "165        True  johnlowery@gmail.com    635.676.0955x524   \n",
       "\n",
       "           customerDevice                        customerIPAddress  \\\n",
       "7    rjb0adai34izqvys4938                           212.144.68.190   \n",
       "40   jz66ap43id2y35ivfqa5  6c21:ac1d:2089:68fa:abb7:8c00:525f:6588   \n",
       "45   cdx178qymd6vy77nm4x3                           222.79.159.140   \n",
       "65   311kdz4c1210iixltk2j   42b3:df19:86fe:abd9:dafe:f6c1:eb76:c72   \n",
       "79   2in0fh7lep289n8dcbdz                           163.128.139.42   \n",
       "133  tyijaify2hqadwslejyr   e4c:fb48:8ee2:9819:6ae8:8d3f:3b6a:a788   \n",
       "155  6qy6oa3nqutsyyxzc54c  f259:657f:f329:2fca:c06c:8b57:d6ac:2380   \n",
       "165  969zz9zdj8z4gns4sx5p   f82c:811f:8a02:e2d6:79b:fcaa:42de:570b   \n",
       "\n",
       "                                customerBillingAddress  \n",
       "7     484 Pamela Pass\\nLake Jessicaview, WI 12942-9074  \n",
       "40   08238 Kyle Squares Suite 893\\nMillermouth, IN ...  \n",
       "45             77711 Pamela Ridge\\nNew Kayla, IL 27182  \n",
       "65   11704 Andrew Villages Apt. 035\\nJamesfurt, OR ...  \n",
       "79             814 Wagner Union\\nAshleymouth, HI 35617  \n",
       "133  518 Wood Mews Apt. 970\\nDillonstad, NE 43317-3945  \n",
       "155  687 Rogers Bridge Suite 780\\nValdezburgh, IN 2...  \n",
       "165           548 Bryant Inlet\\nVeronicaside, OK 00522  "
      ]
     },
     "execution_count": 20,
     "metadata": {},
     "output_type": "execute_result"
    }
   ],
   "source": [
    "customer_df[customer_df['customerEmail'] == 'johnlowery@gmail.com']"
   ]
  },
  {
   "cell_type": "markdown",
   "id": "8d539c79-befa-4618-994b-7c14f6841ef4",
   "metadata": {},
   "source": [
    "### IP addresses"
   ]
  },
  {
   "cell_type": "code",
   "execution_count": 21,
   "id": "50ba3cd6-071c-4aed-bf26-55d965702410",
   "metadata": {
    "execution": {
     "iopub.execute_input": "2024-03-11T13:27:58.211814Z",
     "iopub.status.busy": "2024-03-11T13:27:58.211244Z",
     "iopub.status.idle": "2024-03-11T13:27:58.220463Z",
     "shell.execute_reply": "2024-03-11T13:27:58.219697Z",
     "shell.execute_reply.started": "2024-03-11T13:27:58.211776Z"
    },
    "tags": []
   },
   "outputs": [
    {
     "data": {
      "text/plain": [
       "45.203.99.249     4\n",
       "8.129.104.40      1\n",
       "11.165.157.167    1\n",
       "181.88.44.76      1\n",
       "242.102.134.32    1\n",
       "Name: customerIPAddress, dtype: int64"
      ]
     },
     "execution_count": 21,
     "metadata": {},
     "output_type": "execute_result"
    }
   ],
   "source": [
    "customer_df.customerIPAddress.value_counts().head()"
   ]
  },
  {
   "cell_type": "code",
   "execution_count": 22,
   "id": "05d7f131-4ab0-41a6-8dc5-eaa9e6375f8a",
   "metadata": {
    "execution": {
     "iopub.execute_input": "2024-03-11T13:27:58.222246Z",
     "iopub.status.busy": "2024-03-11T13:27:58.221856Z",
     "iopub.status.idle": "2024-03-11T13:27:58.231169Z",
     "shell.execute_reply": "2024-03-11T13:27:58.230382Z",
     "shell.execute_reply.started": "2024-03-11T13:27:58.222215Z"
    },
    "tags": []
   },
   "outputs": [
    {
     "data": {
      "text/plain": [
       "True    4\n",
       "Name: fraudulent, dtype: int64"
      ]
     },
     "execution_count": 22,
     "metadata": {},
     "output_type": "execute_result"
    }
   ],
   "source": [
    "customer_df[customer_df['customerIPAddress'] == '45.203.99.249']['fraudulent'].value_counts()"
   ]
  },
  {
   "cell_type": "code",
   "execution_count": 23,
   "id": "3416c60a-bcea-4a76-b43e-6a4facf7d32d",
   "metadata": {
    "execution": {
     "iopub.execute_input": "2024-03-11T13:27:58.232376Z",
     "iopub.status.busy": "2024-03-11T13:27:58.232089Z",
     "iopub.status.idle": "2024-03-11T13:27:58.245925Z",
     "shell.execute_reply": "2024-03-11T13:27:58.244633Z",
     "shell.execute_reply.started": "2024-03-11T13:27:58.232341Z"
    },
    "tags": []
   },
   "outputs": [
    {
     "data": {
      "text/html": [
       "<div>\n",
       "<style scoped>\n",
       "    .dataframe tbody tr th:only-of-type {\n",
       "        vertical-align: middle;\n",
       "    }\n",
       "\n",
       "    .dataframe tbody tr th {\n",
       "        vertical-align: top;\n",
       "    }\n",
       "\n",
       "    .dataframe thead th {\n",
       "        text-align: right;\n",
       "    }\n",
       "</style>\n",
       "<table border=\"1\" class=\"dataframe\">\n",
       "  <thead>\n",
       "    <tr style=\"text-align: right;\">\n",
       "      <th></th>\n",
       "      <th>fraudulent</th>\n",
       "      <th>customerEmail</th>\n",
       "      <th>customerPhone</th>\n",
       "      <th>customerDevice</th>\n",
       "      <th>customerIPAddress</th>\n",
       "      <th>customerBillingAddress</th>\n",
       "    </tr>\n",
       "  </thead>\n",
       "  <tbody>\n",
       "    <tr>\n",
       "      <th>46</th>\n",
       "      <td>True</td>\n",
       "      <td>jamescampbell@randall-pacheco.biz</td>\n",
       "      <td>599-142-6783</td>\n",
       "      <td>eaul63h9guyvwuymfn3z</td>\n",
       "      <td>45.203.99.249</td>\n",
       "      <td>29408 Lisa Lock\\nPort Jennifer, LA 26501-7040</td>\n",
       "    </tr>\n",
       "    <tr>\n",
       "      <th>80</th>\n",
       "      <td>True</td>\n",
       "      <td>warrenedward@arnold.com</td>\n",
       "      <td>201.737.5119x64000</td>\n",
       "      <td>6py7ewqjkxjw8zjl9eri</td>\n",
       "      <td>45.203.99.249</td>\n",
       "      <td>49680 Brian Squares Apt. 122\\nPort Walterburgh...</td>\n",
       "    </tr>\n",
       "    <tr>\n",
       "      <th>88</th>\n",
       "      <td>True</td>\n",
       "      <td>shelby24@hotmail.com</td>\n",
       "      <td>(071)934-3315x27613</td>\n",
       "      <td>obb41ux0zfa2td5ajo9s</td>\n",
       "      <td>45.203.99.249</td>\n",
       "      <td>3271 Cynthia Groves\\nPort Jeremyberg, CO 27305</td>\n",
       "    </tr>\n",
       "    <tr>\n",
       "      <th>141</th>\n",
       "      <td>True</td>\n",
       "      <td>christinemills@mcgee.com</td>\n",
       "      <td>(651)355-4709</td>\n",
       "      <td>zbn9it3s7yl69bjtrnqf</td>\n",
       "      <td>45.203.99.249</td>\n",
       "      <td>5156 Greene Park Apt. 748\\nNew Sandra, CA 1480...</td>\n",
       "    </tr>\n",
       "  </tbody>\n",
       "</table>\n",
       "</div>"
      ],
      "text/plain": [
       "     fraudulent                      customerEmail        customerPhone  \\\n",
       "46         True  jamescampbell@randall-pacheco.biz         599-142-6783   \n",
       "80         True            warrenedward@arnold.com   201.737.5119x64000   \n",
       "88         True               shelby24@hotmail.com  (071)934-3315x27613   \n",
       "141        True           christinemills@mcgee.com        (651)355-4709   \n",
       "\n",
       "           customerDevice customerIPAddress  \\\n",
       "46   eaul63h9guyvwuymfn3z     45.203.99.249   \n",
       "80   6py7ewqjkxjw8zjl9eri     45.203.99.249   \n",
       "88   obb41ux0zfa2td5ajo9s     45.203.99.249   \n",
       "141  zbn9it3s7yl69bjtrnqf     45.203.99.249   \n",
       "\n",
       "                                customerBillingAddress  \n",
       "46       29408 Lisa Lock\\nPort Jennifer, LA 26501-7040  \n",
       "80   49680 Brian Squares Apt. 122\\nPort Walterburgh...  \n",
       "88      3271 Cynthia Groves\\nPort Jeremyberg, CO 27305  \n",
       "141  5156 Greene Park Apt. 748\\nNew Sandra, CA 1480...  "
      ]
     },
     "execution_count": 23,
     "metadata": {},
     "output_type": "execute_result"
    }
   ],
   "source": [
    "customer_df[customer_df['customerIPAddress'] == '45.203.99.249']"
   ]
  },
  {
   "cell_type": "markdown",
   "id": "2810daf7-f8fb-41fb-a1d8-b871e28575b3",
   "metadata": {},
   "source": [
    "### Billing addresses"
   ]
  },
  {
   "cell_type": "code",
   "execution_count": 24,
   "id": "7bbfe334-3e4a-4d99-975a-dd3dd9436bc3",
   "metadata": {
    "execution": {
     "iopub.execute_input": "2024-03-11T13:27:58.248050Z",
     "iopub.status.busy": "2024-03-11T13:27:58.247395Z",
     "iopub.status.idle": "2024-03-11T13:27:58.257570Z",
     "shell.execute_reply": "2024-03-11T13:27:58.256338Z",
     "shell.execute_reply.started": "2024-03-11T13:27:58.247998Z"
    },
    "tags": []
   },
   "outputs": [
    {
     "data": {
      "text/plain": [
       "49680 Brian Squares Apt. 122\\nPort Walterburgh, MH 02766-0708    3\n",
       "5493 Jones Islands\\nBrownside, CA 51896                          1\n",
       "3120 Horne Vista\\nPort Emmaview, LA 25479                        1\n",
       "Unit 6251 Box 1562\\nDPO AP 54457-8709                            1\n",
       "8663 Kaitlyn Key\\nBrittanyview, CT 46389                         1\n",
       "Name: customerBillingAddress, dtype: int64"
      ]
     },
     "execution_count": 24,
     "metadata": {},
     "output_type": "execute_result"
    }
   ],
   "source": [
    "customer_df.customerBillingAddress.value_counts().head()"
   ]
  },
  {
   "cell_type": "code",
   "execution_count": 25,
   "id": "dfcbc0cb-8e72-4fae-a551-b4da4f70fe7f",
   "metadata": {
    "execution": {
     "iopub.execute_input": "2024-03-11T13:27:58.260146Z",
     "iopub.status.busy": "2024-03-11T13:27:58.259438Z",
     "iopub.status.idle": "2024-03-11T13:27:58.272306Z",
     "shell.execute_reply": "2024-03-11T13:27:58.271005Z",
     "shell.execute_reply.started": "2024-03-11T13:27:58.260097Z"
    },
    "tags": []
   },
   "outputs": [
    {
     "data": {
      "text/plain": [
       "True    3\n",
       "Name: fraudulent, dtype: int64"
      ]
     },
     "execution_count": 25,
     "metadata": {},
     "output_type": "execute_result"
    }
   ],
   "source": [
    "customer_df[customer_df['customerBillingAddress'] == '49680 Brian Squares Apt. 122\\nPort Walterburgh, MH 02766-0708']['fraudulent'].value_counts()"
   ]
  },
  {
   "cell_type": "code",
   "execution_count": 26,
   "id": "1d25de89-1ef8-4635-bf2e-68b647b8eb02",
   "metadata": {
    "execution": {
     "iopub.execute_input": "2024-03-11T13:27:58.275529Z",
     "iopub.status.busy": "2024-03-11T13:27:58.274436Z",
     "iopub.status.idle": "2024-03-11T13:27:58.288105Z",
     "shell.execute_reply": "2024-03-11T13:27:58.286926Z",
     "shell.execute_reply.started": "2024-03-11T13:27:58.275474Z"
    },
    "tags": []
   },
   "outputs": [
    {
     "data": {
      "text/html": [
       "<div>\n",
       "<style scoped>\n",
       "    .dataframe tbody tr th:only-of-type {\n",
       "        vertical-align: middle;\n",
       "    }\n",
       "\n",
       "    .dataframe tbody tr th {\n",
       "        vertical-align: top;\n",
       "    }\n",
       "\n",
       "    .dataframe thead th {\n",
       "        text-align: right;\n",
       "    }\n",
       "</style>\n",
       "<table border=\"1\" class=\"dataframe\">\n",
       "  <thead>\n",
       "    <tr style=\"text-align: right;\">\n",
       "      <th></th>\n",
       "      <th>fraudulent</th>\n",
       "      <th>customerEmail</th>\n",
       "      <th>customerPhone</th>\n",
       "      <th>customerDevice</th>\n",
       "      <th>customerIPAddress</th>\n",
       "      <th>customerBillingAddress</th>\n",
       "    </tr>\n",
       "  </thead>\n",
       "  <tbody>\n",
       "    <tr>\n",
       "      <th>57</th>\n",
       "      <td>True</td>\n",
       "      <td>feliciabrown@gmail.com</td>\n",
       "      <td>(226)129-2677</td>\n",
       "      <td>z7xkuohhjbtiqs6q9rk9</td>\n",
       "      <td>115.137.171.103</td>\n",
       "      <td>49680 Brian Squares Apt. 122\\nPort Walterburgh...</td>\n",
       "    </tr>\n",
       "    <tr>\n",
       "      <th>80</th>\n",
       "      <td>True</td>\n",
       "      <td>warrenedward@arnold.com</td>\n",
       "      <td>201.737.5119x64000</td>\n",
       "      <td>6py7ewqjkxjw8zjl9eri</td>\n",
       "      <td>45.203.99.249</td>\n",
       "      <td>49680 Brian Squares Apt. 122\\nPort Walterburgh...</td>\n",
       "    </tr>\n",
       "    <tr>\n",
       "      <th>90</th>\n",
       "      <td>True</td>\n",
       "      <td>brittanydean@hotmail.com</td>\n",
       "      <td>06238721842</td>\n",
       "      <td>yq8xiivmx4prlgx0gofo</td>\n",
       "      <td>3517:8e52:885:8640:a59:f5fd:cb33:b06a</td>\n",
       "      <td>49680 Brian Squares Apt. 122\\nPort Walterburgh...</td>\n",
       "    </tr>\n",
       "  </tbody>\n",
       "</table>\n",
       "</div>"
      ],
      "text/plain": [
       "    fraudulent             customerEmail       customerPhone  \\\n",
       "57        True    feliciabrown@gmail.com       (226)129-2677   \n",
       "80        True   warrenedward@arnold.com  201.737.5119x64000   \n",
       "90        True  brittanydean@hotmail.com         06238721842   \n",
       "\n",
       "          customerDevice                      customerIPAddress  \\\n",
       "57  z7xkuohhjbtiqs6q9rk9                        115.137.171.103   \n",
       "80  6py7ewqjkxjw8zjl9eri                          45.203.99.249   \n",
       "90  yq8xiivmx4prlgx0gofo  3517:8e52:885:8640:a59:f5fd:cb33:b06a   \n",
       "\n",
       "                               customerBillingAddress  \n",
       "57  49680 Brian Squares Apt. 122\\nPort Walterburgh...  \n",
       "80  49680 Brian Squares Apt. 122\\nPort Walterburgh...  \n",
       "90  49680 Brian Squares Apt. 122\\nPort Walterburgh...  "
      ]
     },
     "execution_count": 26,
     "metadata": {},
     "output_type": "execute_result"
    }
   ],
   "source": [
    "customer_df[customer_df['customerBillingAddress'] == '49680 Brian Squares Apt. 122\\nPort Walterburgh, MH 02766-0708']"
   ]
  },
  {
   "cell_type": "markdown",
   "id": "be33932f-79b5-4687-b43c-285e8ac63ccb",
   "metadata": {},
   "source": [
    "**Findings**\n",
    "\n",
    "It is suspicious to see the same email address for multiple customers. Even though the customer device is unique for each customer, I think it is very probable that they are the same customer/fraudster. I think it is best if customers with the same email address are in the same set (either train or test) to prevent data leakage.\n",
    "\n",
    "The same applies to the billing address - it is very suspicious to see the same address for 3 customers. Hence, they also should be in the same set (either train or test) for the same reason.\n",
    "\n",
    "IP address is slightly different - although it should be unique, it doesn't have to be. It is very common that IP addresses can be shared by multiple users. For example, open networks, mobile networks, offices, etc. It is a little bit suspicious that the same address is shared only by fraudsters, but that doesn't mean that this is the same person/fraudster."
   ]
  },
  {
   "cell_type": "markdown",
   "id": "a42de822-3b33-4ea7-bd86-41a5ff3754a2",
   "metadata": {},
   "source": [
    "# Feature engineering"
   ]
  },
  {
   "cell_type": "markdown",
   "id": "8cd07638-88d9-4aeb-b138-4f2a746c9f94",
   "metadata": {},
   "source": [
    "#### Email address"
   ]
  },
  {
   "cell_type": "code",
   "execution_count": 27,
   "id": "8acfd42d-422b-4f76-9384-626c839bc7ae",
   "metadata": {
    "execution": {
     "iopub.execute_input": "2024-03-11T13:27:58.300607Z",
     "iopub.status.busy": "2024-03-11T13:27:58.300091Z",
     "iopub.status.idle": "2024-03-11T13:27:58.307387Z",
     "shell.execute_reply": "2024-03-11T13:27:58.306384Z",
     "shell.execute_reply.started": "2024-03-11T13:27:58.300572Z"
    },
    "tags": []
   },
   "outputs": [],
   "source": [
    "# divide email into username and domain and see if there's anything unsual in either\n",
    "customer_df[['username', 'domain']] = customer_df['customerEmail'].str.split('@', expand=True)"
   ]
  },
  {
   "cell_type": "code",
   "execution_count": 28,
   "id": "7950a2ec-9bd4-416c-bdd2-d260cb840bc7",
   "metadata": {
    "execution": {
     "iopub.execute_input": "2024-03-11T13:27:58.309610Z",
     "iopub.status.busy": "2024-03-11T13:27:58.308861Z",
     "iopub.status.idle": "2024-03-11T13:27:58.319176Z",
     "shell.execute_reply": "2024-03-11T13:27:58.318114Z",
     "shell.execute_reply.started": "2024-03-11T13:27:58.309574Z"
    },
    "tags": []
   },
   "outputs": [
    {
     "data": {
      "text/plain": [
       "johnlowery         8\n",
       "evansjeffery       1\n",
       "ctaylor            1\n",
       "david45            1\n",
       "fdavis             1\n",
       "mtrevino           1\n",
       "tmcpherson         1\n",
       "wdelacruz          1\n",
       "brooksdustin       1\n",
       "3fooiar            1\n",
       "ugood              1\n",
       "marywalker         1\n",
       "amywright          1\n",
       "iray               1\n",
       "koneal             1\n",
       "ukline             1\n",
       "oaguirre           1\n",
       "aliciaanthony      1\n",
       "christinemills     1\n",
       "gwilcox            1\n",
       "1yf0               1\n",
       "kwalsh             1\n",
       "deborah38          1\n",
       "andre74            1\n",
       "mitchellvickie     1\n",
       "sbrown             1\n",
       "vmiller            1\n",
       "craig83            1\n",
       "uchen              1\n",
       "brittanydean       1\n",
       "robinsoncynthia    1\n",
       "samuel15           1\n",
       "ubranch            1\n",
       "bowenwilliam       1\n",
       "gonzalesjackson    1\n",
       "guerramichael      1\n",
       "catherine64        1\n",
       "9es7t              1\n",
       "jamescampbell      1\n",
       "kristina41         1\n",
       "uguzman            1\n",
       "feliciabrown       1\n",
       "joserowland        1\n",
       "hj8maoy            1\n",
       "suzanne21          1\n",
       "cathy42            1\n",
       "nancymayo          1\n",
       "warrenedward       1\n",
       "michael57          1\n",
       "jonathan99         1\n",
       "lleonard           1\n",
       "whitedavid         1\n",
       "shelby24           1\n",
       "ethompson          1\n",
       "Name: username, dtype: int64"
      ]
     },
     "execution_count": 28,
     "metadata": {},
     "output_type": "execute_result"
    }
   ],
   "source": [
    "customer_df[customer_df['fraudulent'] == True]['username'].value_counts()"
   ]
  },
  {
   "cell_type": "code",
   "execution_count": 29,
   "id": "11fdd42d-2e18-43f5-80ff-58edbf30c512",
   "metadata": {
    "execution": {
     "iopub.execute_input": "2024-03-11T13:27:58.320884Z",
     "iopub.status.busy": "2024-03-11T13:27:58.320474Z",
     "iopub.status.idle": "2024-03-11T13:27:58.330265Z",
     "shell.execute_reply": "2024-03-11T13:27:58.329187Z",
     "shell.execute_reply.started": "2024-03-11T13:27:58.320854Z"
    },
    "tags": []
   },
   "outputs": [
    {
     "data": {
      "text/plain": [
       "gmail.com                 15\n",
       "yahoo.com                  6\n",
       "hotmail.com                6\n",
       "henderson.biz              1\n",
       "wright.com                 1\n",
       "knight.info                1\n",
       "6eph                       1\n",
       "mosley.info                1\n",
       "wallace-johnson.com        1\n",
       "rogers.com                 1\n",
       "mcgee.com                  1\n",
       "martin.com                 1\n",
       "wolfe-brown.com            1\n",
       "jedyz63t                   1\n",
       "lopez-gomez.biz            1\n",
       "patrick-decker.com         1\n",
       "brewer-jones.com           1\n",
       "hughes.biz                 1\n",
       "gutierrez.net              1\n",
       "rasmussen-alvarado.com     1\n",
       "spears.biz                 1\n",
       "1jcfcxs7                   1\n",
       "dunn.com                   1\n",
       "saunders-rhodes.com        1\n",
       "rivera-parker.info         1\n",
       "u6n7x                      1\n",
       "randall-pacheco.biz        1\n",
       "jones.com                  1\n",
       "gibson.com                 1\n",
       "malone.com                 1\n",
       "brown.com                  1\n",
       "arnold.com                 1\n",
       "oconnor.com                1\n",
       "stafford.org               1\n",
       "turner-fleming.com         1\n",
       "jones-lloyd.org            1\n",
       "jackson-sanders.com        1\n",
       "Name: domain, dtype: int64"
      ]
     },
     "execution_count": 29,
     "metadata": {},
     "output_type": "execute_result"
    }
   ],
   "source": [
    "customer_df[customer_df['fraudulent'] == True]['domain'].value_counts()"
   ]
  },
  {
   "cell_type": "code",
   "execution_count": 30,
   "id": "f2a845fe-329b-43fe-b021-85fb0e13befa",
   "metadata": {
    "execution": {
     "iopub.execute_input": "2024-03-11T13:27:58.332264Z",
     "iopub.status.busy": "2024-03-11T13:27:58.331717Z",
     "iopub.status.idle": "2024-03-11T13:27:58.340112Z",
     "shell.execute_reply": "2024-03-11T13:27:58.339389Z",
     "shell.execute_reply.started": "2024-03-11T13:27:58.332227Z"
    },
    "tags": []
   },
   "outputs": [],
   "source": [
    "# let's see if the domains are either popular or disposal. Both lists found in the internet\n",
    "\n",
    "with open(\"popular_domains.txt\", \"r\") as f:\n",
    "    data = f.read()\n",
    "    \n",
    "popular_domains = [domain.strip() for domain in data.split(\",\")]\n",
    "\n",
    "with open(\"disposal_domains.txt\", \"r\") as f:\n",
    "    data = f.read()\n",
    "    \n",
    "disposal_domains = [domain.strip() for domain in data.split(\",\")]"
   ]
  },
  {
   "cell_type": "code",
   "execution_count": 31,
   "id": "78618165-155c-4871-abea-d49ba1d185cd",
   "metadata": {
    "execution": {
     "iopub.execute_input": "2024-03-11T13:27:58.342200Z",
     "iopub.status.busy": "2024-03-11T13:27:58.341088Z",
     "iopub.status.idle": "2024-03-11T13:27:58.349579Z",
     "shell.execute_reply": "2024-03-11T13:27:58.348881Z",
     "shell.execute_reply.started": "2024-03-11T13:27:58.342151Z"
    },
    "tags": []
   },
   "outputs": [],
   "source": [
    "customer_df['is_popular_domain'] = customer_df['domain'].isin(popular_domains)\n",
    "\n",
    "customer_df['is_disposal_domain'] = customer_df['domain'].isin(disposal_domains)"
   ]
  },
  {
   "cell_type": "code",
   "execution_count": 32,
   "id": "2d2b268b-57cf-4ff6-85c3-e3fd0ddd8110",
   "metadata": {
    "execution": {
     "iopub.execute_input": "2024-03-11T13:27:58.351240Z",
     "iopub.status.busy": "2024-03-11T13:27:58.350666Z",
     "iopub.status.idle": "2024-03-11T13:27:58.372868Z",
     "shell.execute_reply": "2024-03-11T13:27:58.371718Z",
     "shell.execute_reply.started": "2024-03-11T13:27:58.351205Z"
    },
    "tags": []
   },
   "outputs": [
    {
     "data": {
      "text/html": [
       "<div>\n",
       "<style scoped>\n",
       "    .dataframe tbody tr th:only-of-type {\n",
       "        vertical-align: middle;\n",
       "    }\n",
       "\n",
       "    .dataframe tbody tr th {\n",
       "        vertical-align: top;\n",
       "    }\n",
       "\n",
       "    .dataframe thead th {\n",
       "        text-align: right;\n",
       "    }\n",
       "</style>\n",
       "<table border=\"1\" class=\"dataframe\">\n",
       "  <thead>\n",
       "    <tr style=\"text-align: right;\">\n",
       "      <th>is_popular_domain</th>\n",
       "      <th>False</th>\n",
       "      <th>True</th>\n",
       "    </tr>\n",
       "    <tr>\n",
       "      <th>fraudulent</th>\n",
       "      <th></th>\n",
       "      <th></th>\n",
       "    </tr>\n",
       "  </thead>\n",
       "  <tbody>\n",
       "    <tr>\n",
       "      <th>False</th>\n",
       "      <td>0.476636</td>\n",
       "      <td>0.523364</td>\n",
       "    </tr>\n",
       "    <tr>\n",
       "      <th>True</th>\n",
       "      <td>0.540984</td>\n",
       "      <td>0.459016</td>\n",
       "    </tr>\n",
       "  </tbody>\n",
       "</table>\n",
       "</div>"
      ],
      "text/plain": [
       "is_popular_domain     False     True \n",
       "fraudulent                           \n",
       "False              0.476636  0.523364\n",
       "True               0.540984  0.459016"
      ]
     },
     "execution_count": 32,
     "metadata": {},
     "output_type": "execute_result"
    }
   ],
   "source": [
    "pd.crosstab(customer_df.fraudulent, customer_df.is_popular_domain, normalize='index')"
   ]
  },
  {
   "cell_type": "code",
   "execution_count": 33,
   "id": "9b9d3839-c457-4090-a8a8-fe005cdd601c",
   "metadata": {
    "execution": {
     "iopub.execute_input": "2024-03-11T13:27:58.374588Z",
     "iopub.status.busy": "2024-03-11T13:27:58.374047Z",
     "iopub.status.idle": "2024-03-11T13:27:58.382851Z",
     "shell.execute_reply": "2024-03-11T13:27:58.381786Z",
     "shell.execute_reply.started": "2024-03-11T13:27:58.374554Z"
    },
    "tags": []
   },
   "outputs": [
    {
     "data": {
      "text/plain": [
       "False    168\n",
       "Name: is_disposal_domain, dtype: int64"
      ]
     },
     "execution_count": 33,
     "metadata": {},
     "output_type": "execute_result"
    }
   ],
   "source": [
    "customer_df['is_disposal_domain'].value_counts()"
   ]
  },
  {
   "cell_type": "code",
   "execution_count": 34,
   "id": "8c96fd4b-e8f5-48dd-a2f3-7269e61adf96",
   "metadata": {
    "execution": {
     "iopub.execute_input": "2024-03-11T13:27:58.384582Z",
     "iopub.status.busy": "2024-03-11T13:27:58.384192Z",
     "iopub.status.idle": "2024-03-11T13:27:58.390008Z",
     "shell.execute_reply": "2024-03-11T13:27:58.388825Z",
     "shell.execute_reply.started": "2024-03-11T13:27:58.384550Z"
    },
    "tags": []
   },
   "outputs": [],
   "source": [
    "# create a email validator, if the email is not valid assign 0, if it is assign 1. Using python package: email_validator\n",
    "\n",
    "def email_validator(df, email_series):\n",
    "    df['valid_email'] = df[email_series].apply(lambda x: validate_individual_email(x))\n",
    "\n",
    "def validate_individual_email(email):\n",
    "    try:\n",
    "        emailinfo = validate_email(email, check_deliverability=False)\n",
    "        return 1  # Valid email\n",
    "    except EmailNotValidError as e:\n",
    "        return 0  # Invalid email"
   ]
  },
  {
   "cell_type": "code",
   "execution_count": 35,
   "id": "2397b64a-04ea-4d67-883e-82cf440ee397",
   "metadata": {
    "execution": {
     "iopub.execute_input": "2024-03-11T13:27:58.391807Z",
     "iopub.status.busy": "2024-03-11T13:27:58.391058Z",
     "iopub.status.idle": "2024-03-11T13:27:58.414688Z",
     "shell.execute_reply": "2024-03-11T13:27:58.413692Z",
     "shell.execute_reply.started": "2024-03-11T13:27:58.391759Z"
    },
    "tags": []
   },
   "outputs": [],
   "source": [
    "email_validator(customer_df, 'customerEmail')"
   ]
  },
  {
   "cell_type": "code",
   "execution_count": 36,
   "id": "7a2a46f1-9e46-44ac-9277-f36b005df067",
   "metadata": {
    "execution": {
     "iopub.execute_input": "2024-03-11T13:27:58.416382Z",
     "iopub.status.busy": "2024-03-11T13:27:58.415801Z",
     "iopub.status.idle": "2024-03-11T13:27:58.428001Z",
     "shell.execute_reply": "2024-03-11T13:27:58.427382Z",
     "shell.execute_reply.started": "2024-03-11T13:27:58.416340Z"
    },
    "tags": []
   },
   "outputs": [
    {
     "data": {
      "text/html": [
       "<div>\n",
       "<style scoped>\n",
       "    .dataframe tbody tr th:only-of-type {\n",
       "        vertical-align: middle;\n",
       "    }\n",
       "\n",
       "    .dataframe tbody tr th {\n",
       "        vertical-align: top;\n",
       "    }\n",
       "\n",
       "    .dataframe thead th {\n",
       "        text-align: right;\n",
       "    }\n",
       "</style>\n",
       "<table border=\"1\" class=\"dataframe\">\n",
       "  <thead>\n",
       "    <tr style=\"text-align: right;\">\n",
       "      <th></th>\n",
       "      <th>fraudulent</th>\n",
       "      <th>customerEmail</th>\n",
       "      <th>customerPhone</th>\n",
       "      <th>customerDevice</th>\n",
       "      <th>customerIPAddress</th>\n",
       "      <th>customerBillingAddress</th>\n",
       "      <th>username</th>\n",
       "      <th>domain</th>\n",
       "      <th>is_popular_domain</th>\n",
       "      <th>is_disposal_domain</th>\n",
       "      <th>valid_email</th>\n",
       "    </tr>\n",
       "  </thead>\n",
       "  <tbody>\n",
       "    <tr>\n",
       "      <th>32</th>\n",
       "      <td>True</td>\n",
       "      <td>9es7t@u6n7x</td>\n",
       "      <td>518.037.7423x366</td>\n",
       "      <td>uqdiolg8krd34n4phs18</td>\n",
       "      <td>3617:fa2b:f31e:5b72:59a8:cb1a:d090:edb9</td>\n",
       "      <td>63978 Luis Ports\\nYvonneville, NE 63736-2980</td>\n",
       "      <td>9es7t</td>\n",
       "      <td>u6n7x</td>\n",
       "      <td>False</td>\n",
       "      <td>False</td>\n",
       "      <td>0</td>\n",
       "    </tr>\n",
       "    <tr>\n",
       "      <th>62</th>\n",
       "      <td>True</td>\n",
       "      <td>hj8maoy@1jcfcxs7</td>\n",
       "      <td>03115487766</td>\n",
       "      <td>e3prs7zh4ueieiwlkud7</td>\n",
       "      <td>769a:4538:2bd2:8213:85ed:ca71:1ea3:dcd9</td>\n",
       "      <td>872 Ashley Island Apt. 254\\nEast Anthonytown, ...</td>\n",
       "      <td>hj8maoy</td>\n",
       "      <td>1jcfcxs7</td>\n",
       "      <td>False</td>\n",
       "      <td>False</td>\n",
       "      <td>0</td>\n",
       "    </tr>\n",
       "    <tr>\n",
       "      <th>108</th>\n",
       "      <td>True</td>\n",
       "      <td>3fooiar@6eph</td>\n",
       "      <td>1-774-301-9632x42146</td>\n",
       "      <td>by46esafzb52tuqcy9d1</td>\n",
       "      <td>181.88.44.76</td>\n",
       "      <td>942 Hopkins Loaf Suite 128\\nPort Clifford, AK ...</td>\n",
       "      <td>3fooiar</td>\n",
       "      <td>6eph</td>\n",
       "      <td>False</td>\n",
       "      <td>False</td>\n",
       "      <td>0</td>\n",
       "    </tr>\n",
       "    <tr>\n",
       "      <th>151</th>\n",
       "      <td>True</td>\n",
       "      <td>1yf0@jedyz63t</td>\n",
       "      <td>463-609-3475</td>\n",
       "      <td>j3a0155srqw0yeqvbgps</td>\n",
       "      <td>1fe2:1fa3:2a6f:845d:1037:2dac:2831:9d50</td>\n",
       "      <td>12350 Nicholas Greens\\nLawsonborough, NC 70237...</td>\n",
       "      <td>1yf0</td>\n",
       "      <td>jedyz63t</td>\n",
       "      <td>False</td>\n",
       "      <td>False</td>\n",
       "      <td>0</td>\n",
       "    </tr>\n",
       "  </tbody>\n",
       "</table>\n",
       "</div>"
      ],
      "text/plain": [
       "     fraudulent     customerEmail         customerPhone        customerDevice  \\\n",
       "32         True       9es7t@u6n7x      518.037.7423x366  uqdiolg8krd34n4phs18   \n",
       "62         True  hj8maoy@1jcfcxs7           03115487766  e3prs7zh4ueieiwlkud7   \n",
       "108        True      3fooiar@6eph  1-774-301-9632x42146  by46esafzb52tuqcy9d1   \n",
       "151        True     1yf0@jedyz63t          463-609-3475  j3a0155srqw0yeqvbgps   \n",
       "\n",
       "                           customerIPAddress  \\\n",
       "32   3617:fa2b:f31e:5b72:59a8:cb1a:d090:edb9   \n",
       "62   769a:4538:2bd2:8213:85ed:ca71:1ea3:dcd9   \n",
       "108                             181.88.44.76   \n",
       "151  1fe2:1fa3:2a6f:845d:1037:2dac:2831:9d50   \n",
       "\n",
       "                                customerBillingAddress username    domain  \\\n",
       "32        63978 Luis Ports\\nYvonneville, NE 63736-2980    9es7t     u6n7x   \n",
       "62   872 Ashley Island Apt. 254\\nEast Anthonytown, ...  hj8maoy  1jcfcxs7   \n",
       "108  942 Hopkins Loaf Suite 128\\nPort Clifford, AK ...  3fooiar      6eph   \n",
       "151  12350 Nicholas Greens\\nLawsonborough, NC 70237...     1yf0  jedyz63t   \n",
       "\n",
       "     is_popular_domain  is_disposal_domain  valid_email  \n",
       "32               False               False            0  \n",
       "62               False               False            0  \n",
       "108              False               False            0  \n",
       "151              False               False            0  "
      ]
     },
     "execution_count": 36,
     "metadata": {},
     "output_type": "execute_result"
    }
   ],
   "source": [
    "customer_df[customer_df['valid_email'] == 0]"
   ]
  },
  {
   "cell_type": "markdown",
   "id": "46c6dd9d-5100-45e6-bcdf-5024cc8a4959",
   "metadata": {},
   "source": [
    "### Phone numbers"
   ]
  },
  {
   "cell_type": "code",
   "execution_count": 37,
   "id": "c3b3235d-1914-4049-86da-c7e36ddd56bf",
   "metadata": {
    "execution": {
     "iopub.execute_input": "2024-03-11T13:27:58.429140Z",
     "iopub.status.busy": "2024-03-11T13:27:58.428895Z",
     "iopub.status.idle": "2024-03-11T13:27:58.435380Z",
     "shell.execute_reply": "2024-03-11T13:27:58.434371Z",
     "shell.execute_reply.started": "2024-03-11T13:27:58.429116Z"
    },
    "tags": []
   },
   "outputs": [],
   "source": [
    "# split phone numbers into base and extention phone numbers\n",
    "customer_df[['base_phone_number', 'extention_phone_number']] = customer_df['customerPhone'].str.split('x', expand=True)"
   ]
  },
  {
   "cell_type": "code",
   "execution_count": 38,
   "id": "3b15da6f-02f7-4f96-b5ec-7a131923b4fa",
   "metadata": {
    "execution": {
     "iopub.execute_input": "2024-03-11T13:27:58.437101Z",
     "iopub.status.busy": "2024-03-11T13:27:58.436717Z",
     "iopub.status.idle": "2024-03-11T13:27:58.452529Z",
     "shell.execute_reply": "2024-03-11T13:27:58.451794Z",
     "shell.execute_reply.started": "2024-03-11T13:27:58.437072Z"
    }
   },
   "outputs": [
    {
     "data": {
      "text/html": [
       "<div>\n",
       "<style scoped>\n",
       "    .dataframe tbody tr th:only-of-type {\n",
       "        vertical-align: middle;\n",
       "    }\n",
       "\n",
       "    .dataframe tbody tr th {\n",
       "        vertical-align: top;\n",
       "    }\n",
       "\n",
       "    .dataframe thead th {\n",
       "        text-align: right;\n",
       "    }\n",
       "</style>\n",
       "<table border=\"1\" class=\"dataframe\">\n",
       "  <thead>\n",
       "    <tr style=\"text-align: right;\">\n",
       "      <th></th>\n",
       "      <th>fraudulent</th>\n",
       "      <th>customerEmail</th>\n",
       "      <th>customerPhone</th>\n",
       "      <th>customerDevice</th>\n",
       "      <th>customerIPAddress</th>\n",
       "      <th>customerBillingAddress</th>\n",
       "      <th>username</th>\n",
       "      <th>domain</th>\n",
       "      <th>is_popular_domain</th>\n",
       "      <th>is_disposal_domain</th>\n",
       "      <th>valid_email</th>\n",
       "      <th>base_phone_number</th>\n",
       "      <th>extention_phone_number</th>\n",
       "    </tr>\n",
       "  </thead>\n",
       "  <tbody>\n",
       "    <tr>\n",
       "      <th>87</th>\n",
       "      <td>False</td>\n",
       "      <td>tayloreric@gmail.com</td>\n",
       "      <td>1-160-137-7889x74832</td>\n",
       "      <td>sjoj10iss04dq90i4w7x</td>\n",
       "      <td>3.75.86.140</td>\n",
       "      <td>3195 Farmer Mills Apt. 946\\nBrittanymouth, IA ...</td>\n",
       "      <td>tayloreric</td>\n",
       "      <td>gmail.com</td>\n",
       "      <td>True</td>\n",
       "      <td>False</td>\n",
       "      <td>1</td>\n",
       "      <td>1-160-137-7889</td>\n",
       "      <td>74832</td>\n",
       "    </tr>\n",
       "    <tr>\n",
       "      <th>78</th>\n",
       "      <td>True</td>\n",
       "      <td>nancymayo@brown.com</td>\n",
       "      <td>830-346-6543x518</td>\n",
       "      <td>1asmfecu4hbv73a2r5jy</td>\n",
       "      <td>79.112.154.104</td>\n",
       "      <td>6927 Nathan Mountains\\nNorth April, PA 95355-9109</td>\n",
       "      <td>nancymayo</td>\n",
       "      <td>brown.com</td>\n",
       "      <td>False</td>\n",
       "      <td>False</td>\n",
       "      <td>1</td>\n",
       "      <td>830-346-6543</td>\n",
       "      <td>518</td>\n",
       "    </tr>\n",
       "    <tr>\n",
       "      <th>91</th>\n",
       "      <td>False</td>\n",
       "      <td>watkinscaroline@lewis-haas.com</td>\n",
       "      <td>153-392-3908x8124</td>\n",
       "      <td>mcfj07mm32tyodtfh7z2</td>\n",
       "      <td>244.18.220.218</td>\n",
       "      <td>991 Melton Viaduct\\nWagnerville, NH 56051</td>\n",
       "      <td>watkinscaroline</td>\n",
       "      <td>lewis-haas.com</td>\n",
       "      <td>False</td>\n",
       "      <td>False</td>\n",
       "      <td>1</td>\n",
       "      <td>153-392-3908</td>\n",
       "      <td>8124</td>\n",
       "    </tr>\n",
       "    <tr>\n",
       "      <th>40</th>\n",
       "      <td>True</td>\n",
       "      <td>johnlowery@gmail.com</td>\n",
       "      <td>737-377-9701x577</td>\n",
       "      <td>jz66ap43id2y35ivfqa5</td>\n",
       "      <td>6c21:ac1d:2089:68fa:abb7:8c00:525f:6588</td>\n",
       "      <td>08238 Kyle Squares Suite 893\\nMillermouth, IN ...</td>\n",
       "      <td>johnlowery</td>\n",
       "      <td>gmail.com</td>\n",
       "      <td>True</td>\n",
       "      <td>False</td>\n",
       "      <td>1</td>\n",
       "      <td>737-377-9701</td>\n",
       "      <td>577</td>\n",
       "    </tr>\n",
       "    <tr>\n",
       "      <th>121</th>\n",
       "      <td>True</td>\n",
       "      <td>ctaylor@yahoo.com</td>\n",
       "      <td>1-020-923-6697x8718</td>\n",
       "      <td>uu141ykhyig0cj3s98jr</td>\n",
       "      <td>dda2:66e0:4279:3c1b:ac29:4cbb:5ea3:c26b</td>\n",
       "      <td>87096 Warren Turnpike\\nHowellview, WA 74727-2420</td>\n",
       "      <td>ctaylor</td>\n",
       "      <td>yahoo.com</td>\n",
       "      <td>True</td>\n",
       "      <td>False</td>\n",
       "      <td>1</td>\n",
       "      <td>1-020-923-6697</td>\n",
       "      <td>8718</td>\n",
       "    </tr>\n",
       "  </tbody>\n",
       "</table>\n",
       "</div>"
      ],
      "text/plain": [
       "     fraudulent                   customerEmail         customerPhone  \\\n",
       "87        False            tayloreric@gmail.com  1-160-137-7889x74832   \n",
       "78         True             nancymayo@brown.com      830-346-6543x518   \n",
       "91        False  watkinscaroline@lewis-haas.com     153-392-3908x8124   \n",
       "40         True            johnlowery@gmail.com      737-377-9701x577   \n",
       "121        True               ctaylor@yahoo.com   1-020-923-6697x8718   \n",
       "\n",
       "           customerDevice                        customerIPAddress  \\\n",
       "87   sjoj10iss04dq90i4w7x                              3.75.86.140   \n",
       "78   1asmfecu4hbv73a2r5jy                           79.112.154.104   \n",
       "91   mcfj07mm32tyodtfh7z2                           244.18.220.218   \n",
       "40   jz66ap43id2y35ivfqa5  6c21:ac1d:2089:68fa:abb7:8c00:525f:6588   \n",
       "121  uu141ykhyig0cj3s98jr  dda2:66e0:4279:3c1b:ac29:4cbb:5ea3:c26b   \n",
       "\n",
       "                                customerBillingAddress         username  \\\n",
       "87   3195 Farmer Mills Apt. 946\\nBrittanymouth, IA ...       tayloreric   \n",
       "78   6927 Nathan Mountains\\nNorth April, PA 95355-9109        nancymayo   \n",
       "91           991 Melton Viaduct\\nWagnerville, NH 56051  watkinscaroline   \n",
       "40   08238 Kyle Squares Suite 893\\nMillermouth, IN ...       johnlowery   \n",
       "121   87096 Warren Turnpike\\nHowellview, WA 74727-2420          ctaylor   \n",
       "\n",
       "             domain  is_popular_domain  is_disposal_domain  valid_email  \\\n",
       "87        gmail.com               True               False            1   \n",
       "78        brown.com              False               False            1   \n",
       "91   lewis-haas.com              False               False            1   \n",
       "40        gmail.com               True               False            1   \n",
       "121       yahoo.com               True               False            1   \n",
       "\n",
       "    base_phone_number extention_phone_number  \n",
       "87     1-160-137-7889                  74832  \n",
       "78       830-346-6543                    518  \n",
       "91       153-392-3908                   8124  \n",
       "40       737-377-9701                    577  \n",
       "121    1-020-923-6697                   8718  "
      ]
     },
     "execution_count": 38,
     "metadata": {},
     "output_type": "execute_result"
    }
   ],
   "source": [
    "customer_df[customer_df['extention_phone_number'].notnull()].sample(5)"
   ]
  },
  {
   "cell_type": "code",
   "execution_count": 39,
   "id": "06d464e1-b3a3-4c28-8ec6-84a4de754ff4",
   "metadata": {
    "execution": {
     "iopub.execute_input": "2024-03-11T13:27:58.454241Z",
     "iopub.status.busy": "2024-03-11T13:27:58.453603Z",
     "iopub.status.idle": "2024-03-11T13:27:58.459608Z",
     "shell.execute_reply": "2024-03-11T13:27:58.458350Z",
     "shell.execute_reply.started": "2024-03-11T13:27:58.454205Z"
    },
    "tags": []
   },
   "outputs": [],
   "source": [
    "customer_df['has_extention_phone_number'] =  customer_df['extention_phone_number'].notnull().astype(int)"
   ]
  },
  {
   "cell_type": "code",
   "execution_count": 40,
   "id": "9aab561d-99b9-4008-9dec-9edb0e0ea146",
   "metadata": {
    "execution": {
     "iopub.execute_input": "2024-03-11T13:27:58.461649Z",
     "iopub.status.busy": "2024-03-11T13:27:58.461165Z",
     "iopub.status.idle": "2024-03-11T13:27:58.480132Z",
     "shell.execute_reply": "2024-03-11T13:27:58.479489Z",
     "shell.execute_reply.started": "2024-03-11T13:27:58.461614Z"
    },
    "tags": []
   },
   "outputs": [
    {
     "data": {
      "text/html": [
       "<div>\n",
       "<style scoped>\n",
       "    .dataframe tbody tr th:only-of-type {\n",
       "        vertical-align: middle;\n",
       "    }\n",
       "\n",
       "    .dataframe tbody tr th {\n",
       "        vertical-align: top;\n",
       "    }\n",
       "\n",
       "    .dataframe thead th {\n",
       "        text-align: right;\n",
       "    }\n",
       "</style>\n",
       "<table border=\"1\" class=\"dataframe\">\n",
       "  <thead>\n",
       "    <tr style=\"text-align: right;\">\n",
       "      <th>has_extention_phone_number</th>\n",
       "      <th>0</th>\n",
       "      <th>1</th>\n",
       "    </tr>\n",
       "    <tr>\n",
       "      <th>fraudulent</th>\n",
       "      <th></th>\n",
       "      <th></th>\n",
       "    </tr>\n",
       "  </thead>\n",
       "  <tbody>\n",
       "    <tr>\n",
       "      <th>False</th>\n",
       "      <td>0.476636</td>\n",
       "      <td>0.523364</td>\n",
       "    </tr>\n",
       "    <tr>\n",
       "      <th>True</th>\n",
       "      <td>0.557377</td>\n",
       "      <td>0.442623</td>\n",
       "    </tr>\n",
       "  </tbody>\n",
       "</table>\n",
       "</div>"
      ],
      "text/plain": [
       "has_extention_phone_number         0         1\n",
       "fraudulent                                    \n",
       "False                       0.476636  0.523364\n",
       "True                        0.557377  0.442623"
      ]
     },
     "execution_count": 40,
     "metadata": {},
     "output_type": "execute_result"
    }
   ],
   "source": [
    "pd.crosstab(customer_df.fraudulent, customer_df.has_extention_phone_number, normalize='index')"
   ]
  },
  {
   "cell_type": "code",
   "execution_count": 41,
   "id": "6f8df7a8-c3a7-47c1-800f-35a2c8ddaadf",
   "metadata": {
    "execution": {
     "iopub.execute_input": "2024-03-11T13:27:58.481659Z",
     "iopub.status.busy": "2024-03-11T13:27:58.481277Z",
     "iopub.status.idle": "2024-03-11T13:27:58.486968Z",
     "shell.execute_reply": "2024-03-11T13:27:58.485862Z",
     "shell.execute_reply.started": "2024-03-11T13:27:58.481631Z"
    },
    "tags": []
   },
   "outputs": [],
   "source": [
    "# use phonenumbers library to find out if the phone number is US or foreign (based on the country code at the beginning of the number)\n",
    "def is_foreign_number(phone_number):\n",
    "    try:\n",
    "        parsed_number = phonenumbers.parse(phone_number, None)\n",
    "        country_code = parsed_number.country_code\n",
    "        if phonenumbers.region_code_for_country_code(country_code) != 'US':\n",
    "            return 1\n",
    "    except phonenumbers.phonenumberutil.NumberParseException:\n",
    "        pass\n",
    "    return 0\n",
    "\n",
    "def add_foreign_column(df, phone_numbers_series):\n",
    "    df['is_foreign_number'] = phone_numbers_series.apply(is_foreign_number)\n",
    "    return df"
   ]
  },
  {
   "cell_type": "code",
   "execution_count": 42,
   "id": "7f35e52f-205a-4ffc-93fa-5dd22ab04921",
   "metadata": {
    "execution": {
     "iopub.execute_input": "2024-03-11T13:27:58.488671Z",
     "iopub.status.busy": "2024-03-11T13:27:58.488331Z",
     "iopub.status.idle": "2024-03-11T13:27:58.509057Z",
     "shell.execute_reply": "2024-03-11T13:27:58.508060Z",
     "shell.execute_reply.started": "2024-03-11T13:27:58.488646Z"
    },
    "tags": []
   },
   "outputs": [],
   "source": [
    "customer_df = add_foreign_column(customer_df, customer_df['base_phone_number'])"
   ]
  },
  {
   "cell_type": "code",
   "execution_count": 43,
   "id": "e2efe019-9b2c-4bd5-a84e-8ec33691f090",
   "metadata": {
    "execution": {
     "iopub.execute_input": "2024-03-11T13:27:58.511062Z",
     "iopub.status.busy": "2024-03-11T13:27:58.510302Z",
     "iopub.status.idle": "2024-03-11T13:27:58.523730Z",
     "shell.execute_reply": "2024-03-11T13:27:58.522530Z",
     "shell.execute_reply.started": "2024-03-11T13:27:58.511019Z"
    },
    "tags": []
   },
   "outputs": [
    {
     "data": {
      "text/html": [
       "<div>\n",
       "<style scoped>\n",
       "    .dataframe tbody tr th:only-of-type {\n",
       "        vertical-align: middle;\n",
       "    }\n",
       "\n",
       "    .dataframe tbody tr th {\n",
       "        vertical-align: top;\n",
       "    }\n",
       "\n",
       "    .dataframe thead th {\n",
       "        text-align: right;\n",
       "    }\n",
       "</style>\n",
       "<table border=\"1\" class=\"dataframe\">\n",
       "  <thead>\n",
       "    <tr style=\"text-align: right;\">\n",
       "      <th></th>\n",
       "      <th>fraudulent</th>\n",
       "      <th>customerPhone</th>\n",
       "      <th>is_foreign_number</th>\n",
       "    </tr>\n",
       "  </thead>\n",
       "  <tbody>\n",
       "    <tr>\n",
       "      <th>5</th>\n",
       "      <td>True</td>\n",
       "      <td>+65(5)8997489788</td>\n",
       "      <td>1</td>\n",
       "    </tr>\n",
       "    <tr>\n",
       "      <th>31</th>\n",
       "      <td>False</td>\n",
       "      <td>+45(0)7468859801</td>\n",
       "      <td>1</td>\n",
       "    </tr>\n",
       "    <tr>\n",
       "      <th>44</th>\n",
       "      <td>False</td>\n",
       "      <td>+23(4)1428642270</td>\n",
       "      <td>1</td>\n",
       "    </tr>\n",
       "    <tr>\n",
       "      <th>49</th>\n",
       "      <td>False</td>\n",
       "      <td>+49(5)7226212913</td>\n",
       "      <td>1</td>\n",
       "    </tr>\n",
       "    <tr>\n",
       "      <th>67</th>\n",
       "      <td>False</td>\n",
       "      <td>+78(3)5889318722</td>\n",
       "      <td>1</td>\n",
       "    </tr>\n",
       "    <tr>\n",
       "      <th>106</th>\n",
       "      <td>False</td>\n",
       "      <td>+32(2)6119524982</td>\n",
       "      <td>1</td>\n",
       "    </tr>\n",
       "    <tr>\n",
       "      <th>130</th>\n",
       "      <td>False</td>\n",
       "      <td>+96(0)1872091077</td>\n",
       "      <td>1</td>\n",
       "    </tr>\n",
       "    <tr>\n",
       "      <th>135</th>\n",
       "      <td>False</td>\n",
       "      <td>+36(0)4967812825</td>\n",
       "      <td>1</td>\n",
       "    </tr>\n",
       "    <tr>\n",
       "      <th>136</th>\n",
       "      <td>True</td>\n",
       "      <td>+77(2)4526373005</td>\n",
       "      <td>1</td>\n",
       "    </tr>\n",
       "    <tr>\n",
       "      <th>138</th>\n",
       "      <td>False</td>\n",
       "      <td>+27(2)4721167637</td>\n",
       "      <td>1</td>\n",
       "    </tr>\n",
       "  </tbody>\n",
       "</table>\n",
       "</div>"
      ],
      "text/plain": [
       "     fraudulent     customerPhone  is_foreign_number\n",
       "5          True  +65(5)8997489788                  1\n",
       "31        False  +45(0)7468859801                  1\n",
       "44        False  +23(4)1428642270                  1\n",
       "49        False  +49(5)7226212913                  1\n",
       "67        False  +78(3)5889318722                  1\n",
       "106       False  +32(2)6119524982                  1\n",
       "130       False  +96(0)1872091077                  1\n",
       "135       False  +36(0)4967812825                  1\n",
       "136        True  +77(2)4526373005                  1\n",
       "138       False  +27(2)4721167637                  1"
      ]
     },
     "execution_count": 43,
     "metadata": {},
     "output_type": "execute_result"
    }
   ],
   "source": [
    "customer_df[customer_df['is_foreign_number'] == 1][['fraudulent', 'customerPhone', 'is_foreign_number']]"
   ]
  },
  {
   "cell_type": "code",
   "execution_count": 44,
   "id": "571911e2-1303-413a-b0f4-a3b312714f8a",
   "metadata": {
    "execution": {
     "iopub.execute_input": "2024-03-11T13:27:58.525737Z",
     "iopub.status.busy": "2024-03-11T13:27:58.525288Z",
     "iopub.status.idle": "2024-03-11T13:27:58.542071Z",
     "shell.execute_reply": "2024-03-11T13:27:58.540848Z",
     "shell.execute_reply.started": "2024-03-11T13:27:58.525709Z"
    },
    "tags": []
   },
   "outputs": [
    {
     "data": {
      "text/html": [
       "<div>\n",
       "<style scoped>\n",
       "    .dataframe tbody tr th:only-of-type {\n",
       "        vertical-align: middle;\n",
       "    }\n",
       "\n",
       "    .dataframe tbody tr th {\n",
       "        vertical-align: top;\n",
       "    }\n",
       "\n",
       "    .dataframe thead th {\n",
       "        text-align: right;\n",
       "    }\n",
       "</style>\n",
       "<table border=\"1\" class=\"dataframe\">\n",
       "  <thead>\n",
       "    <tr style=\"text-align: right;\">\n",
       "      <th>is_foreign_number</th>\n",
       "      <th>0</th>\n",
       "      <th>1</th>\n",
       "    </tr>\n",
       "    <tr>\n",
       "      <th>fraudulent</th>\n",
       "      <th></th>\n",
       "      <th></th>\n",
       "    </tr>\n",
       "  </thead>\n",
       "  <tbody>\n",
       "    <tr>\n",
       "      <th>False</th>\n",
       "      <td>99</td>\n",
       "      <td>8</td>\n",
       "    </tr>\n",
       "    <tr>\n",
       "      <th>True</th>\n",
       "      <td>59</td>\n",
       "      <td>2</td>\n",
       "    </tr>\n",
       "  </tbody>\n",
       "</table>\n",
       "</div>"
      ],
      "text/plain": [
       "is_foreign_number   0  1\n",
       "fraudulent              \n",
       "False              99  8\n",
       "True               59  2"
      ]
     },
     "execution_count": 44,
     "metadata": {},
     "output_type": "execute_result"
    }
   ],
   "source": [
    "pd.crosstab(customer_df.fraudulent, customer_df.is_foreign_number)"
   ]
  },
  {
   "cell_type": "markdown",
   "id": "c8d8b938-4c5b-4bab-8318-67b3ff7ed980",
   "metadata": {},
   "source": [
    "### IP address"
   ]
  },
  {
   "cell_type": "code",
   "execution_count": 45,
   "id": "4526b176-8538-455e-912f-ba2010d6f2dc",
   "metadata": {
    "execution": {
     "iopub.execute_input": "2024-03-11T13:27:58.543919Z",
     "iopub.status.busy": "2024-03-11T13:27:58.543462Z",
     "iopub.status.idle": "2024-03-11T13:27:58.552971Z",
     "shell.execute_reply": "2024-03-11T13:27:58.552129Z",
     "shell.execute_reply.started": "2024-03-11T13:27:58.543872Z"
    },
    "tags": []
   },
   "outputs": [],
   "source": [
    "# get information about the IP address - whether it is IP4/IP6 and what country is registered in\n",
    "def get_ip_info(ip_address):\n",
    "    try:\n",
    "        response = DbIpCity.get(ip_address, api_key='free')\n",
    "        ip_type = response.ip_address.version\n",
    "        country_code = response.country\n",
    "        return ip_type, country_code\n",
    "    except Exception as e:\n",
    "        return None, None\n",
    "\n",
    "def is_foreign_ip(ip_address):\n",
    "    ip_type, country_code = get_ip_info(ip_address)\n",
    "    if country_code == 'US':\n",
    "        return 0\n",
    "    elif country_code is None:\n",
    "        return -1\n",
    "    else:\n",
    "        return 1\n",
    "\n",
    "def is_ipv4(ip_address):\n",
    "    ip_type, _ = get_ip_info(ip_address)\n",
    "    if ip_type == 4:\n",
    "        return 1\n",
    "    elif ip_type == 6:\n",
    "        return 0\n",
    "    else:\n",
    "        return -1\n",
    "\n",
    "def add_ip_columns(df, ip_address_series):\n",
    "    ip_info = ip_address_series.apply(get_ip_info)\n",
    "    df['ip_country_code'] = ip_info.apply(lambda x: x[1])\n",
    "    df['is_foreign_ip'] = ip_info.apply(lambda x: is_foreign_ip(x[0]))\n",
    "    df['IPv4'] = ip_info.apply(lambda x: is_ipv4(x[0]))\n",
    "    return df"
   ]
  },
  {
   "cell_type": "code",
   "execution_count": 46,
   "id": "5d5d941d-9d93-4159-ae34-3787c810dd66",
   "metadata": {
    "execution": {
     "iopub.execute_input": "2024-03-11T13:27:58.554909Z",
     "iopub.status.busy": "2024-03-11T13:27:58.554219Z",
     "iopub.status.idle": "2024-03-11T13:28:13.972700Z",
     "shell.execute_reply": "2024-03-11T13:28:13.970611Z",
     "shell.execute_reply.started": "2024-03-11T13:27:58.554875Z"
    },
    "tags": []
   },
   "outputs": [],
   "source": [
    "customer_df = add_ip_columns(customer_df, customer_df['customerIPAddress'])"
   ]
  },
  {
   "cell_type": "code",
   "execution_count": 47,
   "id": "dd766069-88d5-420a-b7f3-6951b071e39f",
   "metadata": {
    "execution": {
     "iopub.execute_input": "2024-03-11T13:28:13.975591Z",
     "iopub.status.busy": "2024-03-11T13:28:13.974664Z",
     "iopub.status.idle": "2024-03-11T13:28:13.996966Z",
     "shell.execute_reply": "2024-03-11T13:28:13.995544Z",
     "shell.execute_reply.started": "2024-03-11T13:28:13.975529Z"
    },
    "tags": []
   },
   "outputs": [
    {
     "data": {
      "text/html": [
       "<div>\n",
       "<style scoped>\n",
       "    .dataframe tbody tr th:only-of-type {\n",
       "        vertical-align: middle;\n",
       "    }\n",
       "\n",
       "    .dataframe tbody tr th {\n",
       "        vertical-align: top;\n",
       "    }\n",
       "\n",
       "    .dataframe thead th {\n",
       "        text-align: right;\n",
       "    }\n",
       "</style>\n",
       "<table border=\"1\" class=\"dataframe\">\n",
       "  <thead>\n",
       "    <tr style=\"text-align: right;\">\n",
       "      <th>is_foreign_ip</th>\n",
       "      <th>-1</th>\n",
       "    </tr>\n",
       "    <tr>\n",
       "      <th>fraudulent</th>\n",
       "      <th></th>\n",
       "    </tr>\n",
       "  </thead>\n",
       "  <tbody>\n",
       "    <tr>\n",
       "      <th>False</th>\n",
       "      <td>107</td>\n",
       "    </tr>\n",
       "    <tr>\n",
       "      <th>True</th>\n",
       "      <td>61</td>\n",
       "    </tr>\n",
       "  </tbody>\n",
       "</table>\n",
       "</div>"
      ],
      "text/plain": [
       "is_foreign_ip   -1\n",
       "fraudulent        \n",
       "False          107\n",
       "True            61"
      ]
     },
     "execution_count": 47,
     "metadata": {},
     "output_type": "execute_result"
    }
   ],
   "source": [
    "pd.crosstab(customer_df.fraudulent, customer_df.is_foreign_ip)"
   ]
  },
  {
   "cell_type": "markdown",
   "id": "2731e07c-41cb-422b-9273-c45dc912d85a",
   "metadata": {},
   "source": [
    "It seems that I have abused the policy ip2geotools, and I cannot use this features."
   ]
  },
  {
   "cell_type": "markdown",
   "id": "c4186587-0d0c-4ac9-a518-e4e9e63d223b",
   "metadata": {},
   "source": [
    "## Orders"
   ]
  },
  {
   "cell_type": "code",
   "execution_count": 48,
   "id": "00744538-2f01-4b81-b5d5-5a074f18354c",
   "metadata": {
    "execution": {
     "iopub.execute_input": "2024-03-11T13:28:13.998982Z",
     "iopub.status.busy": "2024-03-11T13:28:13.998290Z",
     "iopub.status.idle": "2024-03-11T13:28:14.006546Z",
     "shell.execute_reply": "2024-03-11T13:28:14.005634Z",
     "shell.execute_reply.started": "2024-03-11T13:28:13.998945Z"
    },
    "tags": []
   },
   "outputs": [
    {
     "data": {
      "text/plain": [
       "fulfilled    400\n",
       "failed        50\n",
       "pending       28\n",
       "Name: orderState, dtype: int64"
      ]
     },
     "execution_count": 48,
     "metadata": {},
     "output_type": "execute_result"
    }
   ],
   "source": [
    "orders_df['orderState'].value_counts()"
   ]
  },
  {
   "cell_type": "code",
   "execution_count": 49,
   "id": "8629056d-5f7f-427f-84ef-b16a2eaa1a3d",
   "metadata": {
    "execution": {
     "iopub.execute_input": "2024-03-11T13:28:14.009143Z",
     "iopub.status.busy": "2024-03-11T13:28:14.008568Z",
     "iopub.status.idle": "2024-03-11T13:28:14.017372Z",
     "shell.execute_reply": "2024-03-11T13:28:14.016320Z",
     "shell.execute_reply.started": "2024-03-11T13:28:14.009098Z"
    },
    "tags": []
   },
   "outputs": [],
   "source": [
    "fulfilled_orders_df = orders_df[orders_df['orderState'] == 'fulfilled']\n",
    "pending_orders_df = orders_df[orders_df['orderState'] == 'pending']\n",
    "failed_orders_df = orders_df[orders_df['orderState'] == 'failed']"
   ]
  },
  {
   "cell_type": "code",
   "execution_count": 50,
   "id": "c5f4c21d-7c6e-4aeb-b836-0d059400cdbf",
   "metadata": {
    "execution": {
     "iopub.execute_input": "2024-03-11T13:28:14.019490Z",
     "iopub.status.busy": "2024-03-11T13:28:14.018916Z",
     "iopub.status.idle": "2024-03-11T13:28:14.032421Z",
     "shell.execute_reply": "2024-03-11T13:28:14.030825Z",
     "shell.execute_reply.started": "2024-03-11T13:28:14.019459Z"
    },
    "tags": []
   },
   "outputs": [
    {
     "data": {
      "text/html": [
       "<div>\n",
       "<style scoped>\n",
       "    .dataframe tbody tr th:only-of-type {\n",
       "        vertical-align: middle;\n",
       "    }\n",
       "\n",
       "    .dataframe tbody tr th {\n",
       "        vertical-align: top;\n",
       "    }\n",
       "\n",
       "    .dataframe thead th {\n",
       "        text-align: right;\n",
       "    }\n",
       "</style>\n",
       "<table border=\"1\" class=\"dataframe\">\n",
       "  <thead>\n",
       "    <tr style=\"text-align: right;\">\n",
       "      <th></th>\n",
       "      <th>orderId</th>\n",
       "      <th>orderAmount</th>\n",
       "      <th>orderState</th>\n",
       "      <th>orderShippingAddress</th>\n",
       "    </tr>\n",
       "  </thead>\n",
       "  <tbody>\n",
       "    <tr>\n",
       "      <th>165</th>\n",
       "      <td>jhaub8</td>\n",
       "      <td>13.0</td>\n",
       "      <td>fulfilled</td>\n",
       "      <td>81025 Erin Grove\\nSouth Julieville, DC 96006</td>\n",
       "    </tr>\n",
       "    <tr>\n",
       "      <th>91</th>\n",
       "      <td>z4z8pu</td>\n",
       "      <td>11.0</td>\n",
       "      <td>fulfilled</td>\n",
       "      <td>000 Harmon Passage Suite 981\\nEast Erika, HI 6...</td>\n",
       "    </tr>\n",
       "    <tr>\n",
       "      <th>99</th>\n",
       "      <td>u4dydn</td>\n",
       "      <td>30.0</td>\n",
       "      <td>fulfilled</td>\n",
       "      <td>6609 Hannah Road Suite 577\\nRichardchester, AL...</td>\n",
       "    </tr>\n",
       "    <tr>\n",
       "      <th>141</th>\n",
       "      <td>rih88w</td>\n",
       "      <td>15.0</td>\n",
       "      <td>fulfilled</td>\n",
       "      <td>5156 Greene Park Apt. 748\\nNew Sandra, CA 1480...</td>\n",
       "    </tr>\n",
       "    <tr>\n",
       "      <th>147</th>\n",
       "      <td>mchypz</td>\n",
       "      <td>29.0</td>\n",
       "      <td>fulfilled</td>\n",
       "      <td>PSC 4569, Box 8881\\nAPO AP 07558-7291</td>\n",
       "    </tr>\n",
       "  </tbody>\n",
       "</table>\n",
       "</div>"
      ],
      "text/plain": [
       "    orderId  orderAmount orderState  \\\n",
       "165  jhaub8         13.0  fulfilled   \n",
       "91   z4z8pu         11.0  fulfilled   \n",
       "99   u4dydn         30.0  fulfilled   \n",
       "141  rih88w         15.0  fulfilled   \n",
       "147  mchypz         29.0  fulfilled   \n",
       "\n",
       "                                  orderShippingAddress  \n",
       "165       81025 Erin Grove\\nSouth Julieville, DC 96006  \n",
       "91   000 Harmon Passage Suite 981\\nEast Erika, HI 6...  \n",
       "99   6609 Hannah Road Suite 577\\nRichardchester, AL...  \n",
       "141  5156 Greene Park Apt. 748\\nNew Sandra, CA 1480...  \n",
       "147              PSC 4569, Box 8881\\nAPO AP 07558-7291  "
      ]
     },
     "execution_count": 50,
     "metadata": {},
     "output_type": "execute_result"
    }
   ],
   "source": [
    "orders_df.sample(5)"
   ]
  },
  {
   "cell_type": "code",
   "execution_count": 51,
   "id": "1786131c-32cd-4a94-adc3-cd6628ee2f79",
   "metadata": {
    "execution": {
     "iopub.execute_input": "2024-03-11T13:28:14.034328Z",
     "iopub.status.busy": "2024-03-11T13:28:14.033942Z",
     "iopub.status.idle": "2024-03-11T13:28:14.052110Z",
     "shell.execute_reply": "2024-03-11T13:28:14.050919Z",
     "shell.execute_reply.started": "2024-03-11T13:28:14.034300Z"
    },
    "tags": []
   },
   "outputs": [],
   "source": [
    "# get the count of all orders, as well as fulfilled, pending and failed orders\n",
    "orders_count = orders_df.groupby(orders_df.index).agg({'orderId':'count'}).rename(columns={'orderId':'order_count'})\n",
    "\n",
    "fulfilled_orders_count = fulfilled_orders_df.groupby(fulfilled_orders_df.index).agg({'orderId':'count'}).rename(columns={'orderId':'fulfilled_order_count'})\n",
    "pending_orders_count = pending_orders_df.groupby(pending_orders_df.index).agg({'orderId':'count'}).rename(columns={'orderId':'pending_order_count'})\n",
    "failed_orders_count = failed_orders_df.groupby(failed_orders_df.index).agg({'orderId':'count'}).rename(columns={'orderId':'failed_order_count'})"
   ]
  },
  {
   "cell_type": "code",
   "execution_count": 52,
   "id": "0684267e-9b3b-4d16-b6b6-2945307b25ad",
   "metadata": {
    "execution": {
     "iopub.execute_input": "2024-03-11T13:28:14.054053Z",
     "iopub.status.busy": "2024-03-11T13:28:14.053533Z",
     "iopub.status.idle": "2024-03-11T13:28:14.062942Z",
     "shell.execute_reply": "2024-03-11T13:28:14.062162Z",
     "shell.execute_reply.started": "2024-03-11T13:28:14.054005Z"
    },
    "tags": []
   },
   "outputs": [],
   "source": [
    "# get number of unique shipping locations where customer made an order / calculate the ratio of the number of unique locations and all orders\n",
    "\n",
    "unique_orders_locations = orders_df.groupby(orders_df.index).agg({'orderShippingAddress':'nunique'}).rename(columns={'orderShippingAddress':'unique_order_locations'})\n",
    "\n",
    "locations_per_order_ratio = unique_orders_locations['unique_order_locations'] / orders_count['order_count']\n",
    "\n",
    "locations_per_order_ratio.name = 'locations_per_order_ratio'"
   ]
  },
  {
   "cell_type": "code",
   "execution_count": 53,
   "id": "a0290094-4f86-46c9-aaa6-2708606cf7f1",
   "metadata": {
    "execution": {
     "iopub.execute_input": "2024-03-11T13:28:14.064805Z",
     "iopub.status.busy": "2024-03-11T13:28:14.064207Z",
     "iopub.status.idle": "2024-03-11T13:28:14.080722Z",
     "shell.execute_reply": "2024-03-11T13:28:14.079672Z",
     "shell.execute_reply.started": "2024-03-11T13:28:14.064771Z"
    },
    "tags": []
   },
   "outputs": [],
   "source": [
    "# calculate mean, min, max and sum of orders by given customer\n",
    "\n",
    "mean_order_amount = orders_df.groupby(orders_df.index).agg({'orderAmount':'mean'}).rename(columns={'orderAmount':'avg_order_amount'})\n",
    "min_order_amount = orders_df.groupby(orders_df.index).agg({'orderAmount':'min'}).rename(columns={'orderAmount':'min_order_amount'})\n",
    "max_order_amount = orders_df.groupby(orders_df.index).agg({'orderAmount':'max'}).rename(columns={'orderAmount':'max_order_amount'})\n",
    "sum_order_amount = orders_df.groupby(orders_df.index).agg({'orderAmount':'sum'}).rename(columns={'orderAmount':'sum_order_amount'})"
   ]
  },
  {
   "cell_type": "code",
   "execution_count": 54,
   "id": "5f1ffe0a-1077-4876-8765-19f1540bf5b8",
   "metadata": {
    "execution": {
     "iopub.execute_input": "2024-03-11T13:28:14.082726Z",
     "iopub.status.busy": "2024-03-11T13:28:14.082024Z",
     "iopub.status.idle": "2024-03-11T13:28:14.096325Z",
     "shell.execute_reply": "2024-03-11T13:28:14.095399Z",
     "shell.execute_reply.started": "2024-03-11T13:28:14.082686Z"
    },
    "tags": []
   },
   "outputs": [],
   "source": [
    "# compare shipping and billing address and then calculate the mismatch ratio - the higher the number, the more orders are not shipped to the billing address\n",
    "\n",
    "orders_df_with_billing_address = orders_df.merge(customer_df['customerBillingAddress'], left_index=True, right_index=True)\n",
    "\n",
    "orders_df_with_billing_address = orders_df_with_billing_address[orders_df_with_billing_address['orderShippingAddress'].notna()]\n",
    "\n",
    "orders_df_with_billing_address['address_mismatch'] = orders_df_with_billing_address['orderShippingAddress'] != orders_df_with_billing_address['customerBillingAddress']\n",
    "\n",
    "address_mismatch_ratio = orders_df_with_billing_address.groupby(orders_df_with_billing_address.index)['address_mismatch'].sum() / orders_df_with_billing_address.groupby(orders_df_with_billing_address.index)['orderId'].count()\n",
    "\n",
    "address_mismatch_ratio.name = 'address_mismatch_ratio'"
   ]
  },
  {
   "cell_type": "markdown",
   "id": "3dba34e6-55e0-4d6c-a7fa-08c7c435cf50",
   "metadata": {},
   "source": [
    "## Payment methods"
   ]
  },
  {
   "cell_type": "code",
   "execution_count": 55,
   "id": "d7ecf4f6-2d1e-41c0-b8a5-025b79f821fe",
   "metadata": {
    "execution": {
     "iopub.execute_input": "2024-03-11T13:28:14.098782Z",
     "iopub.status.busy": "2024-03-11T13:28:14.098326Z",
     "iopub.status.idle": "2024-03-11T13:28:14.110905Z",
     "shell.execute_reply": "2024-03-11T13:28:14.109962Z",
     "shell.execute_reply.started": "2024-03-11T13:28:14.098749Z"
    },
    "tags": []
   },
   "outputs": [
    {
     "data": {
      "text/html": [
       "<div>\n",
       "<style scoped>\n",
       "    .dataframe tbody tr th:only-of-type {\n",
       "        vertical-align: middle;\n",
       "    }\n",
       "\n",
       "    .dataframe tbody tr th {\n",
       "        vertical-align: top;\n",
       "    }\n",
       "\n",
       "    .dataframe thead th {\n",
       "        text-align: right;\n",
       "    }\n",
       "</style>\n",
       "<table border=\"1\" class=\"dataframe\">\n",
       "  <thead>\n",
       "    <tr style=\"text-align: right;\">\n",
       "      <th></th>\n",
       "      <th>paymentMethodId</th>\n",
       "      <th>paymentMethodRegistrationFailure</th>\n",
       "      <th>paymentMethodType</th>\n",
       "      <th>paymentMethodProvider</th>\n",
       "      <th>paymentMethodIssuer</th>\n",
       "    </tr>\n",
       "  </thead>\n",
       "  <tbody>\n",
       "    <tr>\n",
       "      <th>0</th>\n",
       "      <td>wt07xm68b</td>\n",
       "      <td>True</td>\n",
       "      <td>card</td>\n",
       "      <td>JCB 16 digit</td>\n",
       "      <td>Citizens First Banks</td>\n",
       "    </tr>\n",
       "    <tr>\n",
       "      <th>1</th>\n",
       "      <td>y3xp697jx</td>\n",
       "      <td>True</td>\n",
       "      <td>bitcoin</td>\n",
       "      <td>VISA 16 digit</td>\n",
       "      <td>Solace Banks</td>\n",
       "    </tr>\n",
       "    <tr>\n",
       "      <th>1</th>\n",
       "      <td>6krszxc05</td>\n",
       "      <td>False</td>\n",
       "      <td>card</td>\n",
       "      <td>VISA 16 digit</td>\n",
       "      <td>Vertex Bancorp</td>\n",
       "    </tr>\n",
       "    <tr>\n",
       "      <th>1</th>\n",
       "      <td>5z1szj2he</td>\n",
       "      <td>False</td>\n",
       "      <td>card</td>\n",
       "      <td>Diners Club / Carte Blanche</td>\n",
       "      <td>His Majesty Bank Corp.</td>\n",
       "    </tr>\n",
       "    <tr>\n",
       "      <th>1</th>\n",
       "      <td>m52tx8e1s</td>\n",
       "      <td>False</td>\n",
       "      <td>card</td>\n",
       "      <td>Mastercard</td>\n",
       "      <td>Vertex Bancorp</td>\n",
       "    </tr>\n",
       "  </tbody>\n",
       "</table>\n",
       "</div>"
      ],
      "text/plain": [
       "  paymentMethodId paymentMethodRegistrationFailure paymentMethodType  \\\n",
       "0       wt07xm68b                             True              card   \n",
       "1       y3xp697jx                             True           bitcoin   \n",
       "1       6krszxc05                            False              card   \n",
       "1       5z1szj2he                            False              card   \n",
       "1       m52tx8e1s                            False              card   \n",
       "\n",
       "         paymentMethodProvider     paymentMethodIssuer  \n",
       "0                 JCB 16 digit    Citizens First Banks  \n",
       "1                VISA 16 digit            Solace Banks  \n",
       "1                VISA 16 digit          Vertex Bancorp  \n",
       "1  Diners Club / Carte Blanche  His Majesty Bank Corp.  \n",
       "1                   Mastercard          Vertex Bancorp  "
      ]
     },
     "execution_count": 55,
     "metadata": {},
     "output_type": "execute_result"
    }
   ],
   "source": [
    "payment_methods_df.head(5)"
   ]
  },
  {
   "cell_type": "code",
   "execution_count": 56,
   "id": "881cc79b-9a6d-436a-8205-e9e46926cad4",
   "metadata": {
    "execution": {
     "iopub.execute_input": "2024-03-11T13:28:14.112739Z",
     "iopub.status.busy": "2024-03-11T13:28:14.112327Z",
     "iopub.status.idle": "2024-03-11T13:28:14.133902Z",
     "shell.execute_reply": "2024-03-11T13:28:14.133228Z",
     "shell.execute_reply.started": "2024-03-11T13:28:14.112707Z"
    },
    "tags": []
   },
   "outputs": [],
   "source": [
    "# get unique number of payment methods' types/providers/issuers per customer\n",
    "payment_method_type_count = payment_methods_df.groupby(payment_methods_df.index).agg({'paymentMethodType':'nunique'}).rename(columns={'paymentMethodType':'payment_method_type_unique_count'})\n",
    "payment_method_provider_count = payment_methods_df.groupby(payment_methods_df.index).agg({'paymentMethodProvider':'nunique'}).rename(columns={'paymentMethodProvider':'payment_method_provider_unique_count'})\n",
    "payment_method_issuer_count = payment_methods_df.groupby(payment_methods_df.index).agg({'paymentMethodIssuer':'nunique'}).rename(columns={'paymentMethodIssuer':'payment_method_issuer_unique_count'})\n",
    "\n",
    "# get the count of failed payment method registration by customer\n",
    "# replace True and False with 1 and 0, and fill na with -1\n",
    "payment_method_registration_failure_count = payment_methods_df.replace([True, False], [1, 0]).fillna(-1).groupby(payment_methods_df.index).agg({'paymentMethodRegistrationFailure':'sum'})"
   ]
  },
  {
   "cell_type": "code",
   "execution_count": 57,
   "id": "e8ed59f8-0f1e-450c-a547-5dcbfd20c130",
   "metadata": {
    "execution": {
     "iopub.execute_input": "2024-03-11T13:28:14.135328Z",
     "iopub.status.busy": "2024-03-11T13:28:14.134837Z",
     "iopub.status.idle": "2024-03-11T13:28:14.150352Z",
     "shell.execute_reply": "2024-03-11T13:28:14.149321Z",
     "shell.execute_reply.started": "2024-03-11T13:28:14.135279Z"
    },
    "tags": []
   },
   "outputs": [],
   "source": [
    "# get one hot encoding / count of different methods' type/providers/issuers per customer\n",
    "ohe_payment_method_type = pd.get_dummies(payment_methods_df['paymentMethodType']).groupby(payment_methods_df.index).sum()\n",
    "ohe_payment_method_provider = pd.get_dummies(payment_methods_df['paymentMethodProvider']).groupby(payment_methods_df.index).sum()\n",
    "ohe_payment_method_issuer = pd.get_dummies(payment_methods_df['paymentMethodIssuer']).groupby(payment_methods_df.index).sum()"
   ]
  },
  {
   "cell_type": "code",
   "execution_count": 58,
   "id": "248936bc-b132-43a8-92de-5829712d620b",
   "metadata": {
    "execution": {
     "iopub.execute_input": "2024-03-11T13:28:14.152338Z",
     "iopub.status.busy": "2024-03-11T13:28:14.151478Z",
     "iopub.status.idle": "2024-03-11T13:28:14.161266Z",
     "shell.execute_reply": "2024-03-11T13:28:14.160548Z",
     "shell.execute_reply.started": "2024-03-11T13:28:14.152291Z"
    },
    "tags": []
   },
   "outputs": [
    {
     "data": {
      "text/html": [
       "<div>\n",
       "<style scoped>\n",
       "    .dataframe tbody tr th:only-of-type {\n",
       "        vertical-align: middle;\n",
       "    }\n",
       "\n",
       "    .dataframe tbody tr th {\n",
       "        vertical-align: top;\n",
       "    }\n",
       "\n",
       "    .dataframe thead th {\n",
       "        text-align: right;\n",
       "    }\n",
       "</style>\n",
       "<table border=\"1\" class=\"dataframe\">\n",
       "  <thead>\n",
       "    <tr style=\"text-align: right;\">\n",
       "      <th></th>\n",
       "      <th>apple pay</th>\n",
       "      <th>bitcoin</th>\n",
       "      <th>card</th>\n",
       "      <th>paypal</th>\n",
       "    </tr>\n",
       "  </thead>\n",
       "  <tbody>\n",
       "    <tr>\n",
       "      <th>119</th>\n",
       "      <td>0</td>\n",
       "      <td>1</td>\n",
       "      <td>0</td>\n",
       "      <td>0</td>\n",
       "    </tr>\n",
       "    <tr>\n",
       "      <th>35</th>\n",
       "      <td>0</td>\n",
       "      <td>0</td>\n",
       "      <td>1</td>\n",
       "      <td>0</td>\n",
       "    </tr>\n",
       "  </tbody>\n",
       "</table>\n",
       "</div>"
      ],
      "text/plain": [
       "     apple pay  bitcoin  card  paypal\n",
       "119          0        1     0       0\n",
       "35           0        0     1       0"
      ]
     },
     "execution_count": 58,
     "metadata": {},
     "output_type": "execute_result"
    }
   ],
   "source": [
    "ohe_payment_method_type.sample(2)"
   ]
  },
  {
   "cell_type": "code",
   "execution_count": 68,
   "id": "bb7f6720-4c9f-4d3f-b64e-5ee90177d234",
   "metadata": {
    "execution": {
     "iopub.execute_input": "2024-03-11T19:52:41.302143Z",
     "iopub.status.busy": "2024-03-11T19:52:41.290799Z",
     "iopub.status.idle": "2024-03-11T19:52:41.495339Z",
     "shell.execute_reply": "2024-03-11T19:52:41.493669Z",
     "shell.execute_reply.started": "2024-03-11T19:52:41.302064Z"
    },
    "tags": []
   },
   "outputs": [
    {
     "data": {
      "text/html": [
       "<div>\n",
       "<style scoped>\n",
       "    .dataframe tbody tr th:only-of-type {\n",
       "        vertical-align: middle;\n",
       "    }\n",
       "\n",
       "    .dataframe tbody tr th {\n",
       "        vertical-align: top;\n",
       "    }\n",
       "\n",
       "    .dataframe thead th {\n",
       "        text-align: right;\n",
       "    }\n",
       "</style>\n",
       "<table border=\"1\" class=\"dataframe\">\n",
       "  <thead>\n",
       "    <tr style=\"text-align: right;\">\n",
       "      <th></th>\n",
       "      <th>American Express</th>\n",
       "      <th>Diners Club / Carte Blanche</th>\n",
       "      <th>Discover</th>\n",
       "      <th>JCB 15 digit</th>\n",
       "      <th>JCB 16 digit</th>\n",
       "      <th>Maestro</th>\n",
       "      <th>Mastercard</th>\n",
       "      <th>VISA 13 digit</th>\n",
       "      <th>VISA 16 digit</th>\n",
       "      <th>Voyager</th>\n",
       "    </tr>\n",
       "  </thead>\n",
       "  <tbody>\n",
       "    <tr>\n",
       "      <th>136</th>\n",
       "      <td>0</td>\n",
       "      <td>0</td>\n",
       "      <td>0</td>\n",
       "      <td>0</td>\n",
       "      <td>0</td>\n",
       "      <td>1</td>\n",
       "      <td>0</td>\n",
       "      <td>0</td>\n",
       "      <td>0</td>\n",
       "      <td>0</td>\n",
       "    </tr>\n",
       "    <tr>\n",
       "      <th>167</th>\n",
       "      <td>0</td>\n",
       "      <td>0</td>\n",
       "      <td>0</td>\n",
       "      <td>1</td>\n",
       "      <td>1</td>\n",
       "      <td>0</td>\n",
       "      <td>0</td>\n",
       "      <td>2</td>\n",
       "      <td>0</td>\n",
       "      <td>0</td>\n",
       "    </tr>\n",
       "  </tbody>\n",
       "</table>\n",
       "</div>"
      ],
      "text/plain": [
       "     American Express  Diners Club / Carte Blanche  Discover  JCB 15 digit  \\\n",
       "136                 0                            0         0             0   \n",
       "167                 0                            0         0             1   \n",
       "\n",
       "     JCB 16 digit  Maestro  Mastercard  VISA 13 digit  VISA 16 digit  Voyager  \n",
       "136             0        1           0              0              0        0  \n",
       "167             1        0           0              2              0        0  "
      ]
     },
     "execution_count": 68,
     "metadata": {},
     "output_type": "execute_result"
    }
   ],
   "source": [
    "ohe_payment_method_provider.sample(2)"
   ]
  },
  {
   "cell_type": "code",
   "execution_count": 59,
   "id": "166e0137-d65c-48a5-96e8-4c57aac1de8f",
   "metadata": {
    "execution": {
     "iopub.execute_input": "2024-03-11T13:28:14.162895Z",
     "iopub.status.busy": "2024-03-11T13:28:14.162367Z",
     "iopub.status.idle": "2024-03-11T13:28:14.175810Z",
     "shell.execute_reply": "2024-03-11T13:28:14.174960Z",
     "shell.execute_reply.started": "2024-03-11T13:28:14.162861Z"
    },
    "tags": []
   },
   "outputs": [
    {
     "data": {
      "text/html": [
       "<div>\n",
       "<style scoped>\n",
       "    .dataframe tbody tr th:only-of-type {\n",
       "        vertical-align: middle;\n",
       "    }\n",
       "\n",
       "    .dataframe tbody tr th {\n",
       "        vertical-align: top;\n",
       "    }\n",
       "\n",
       "    .dataframe thead th {\n",
       "        text-align: right;\n",
       "    }\n",
       "</style>\n",
       "<table border=\"1\" class=\"dataframe\">\n",
       "  <thead>\n",
       "    <tr style=\"text-align: right;\">\n",
       "      <th></th>\n",
       "      <th>paymentMethodId</th>\n",
       "      <th>paymentMethodRegistrationFailure</th>\n",
       "      <th>paymentMethodType</th>\n",
       "      <th>paymentMethodProvider</th>\n",
       "      <th>paymentMethodIssuer</th>\n",
       "    </tr>\n",
       "  </thead>\n",
       "  <tbody>\n",
       "    <tr>\n",
       "      <th>96</th>\n",
       "      <td>annk08w5x</td>\n",
       "      <td>False</td>\n",
       "      <td>card</td>\n",
       "      <td>Voyager</td>\n",
       "      <td>r</td>\n",
       "    </tr>\n",
       "    <tr>\n",
       "      <th>164</th>\n",
       "      <td>vmktpy2mv</td>\n",
       "      <td>False</td>\n",
       "      <td>card</td>\n",
       "      <td>Discover</td>\n",
       "      <td>o</td>\n",
       "    </tr>\n",
       "    <tr>\n",
       "      <th>136</th>\n",
       "      <td>5tyvyueom</td>\n",
       "      <td>False</td>\n",
       "      <td>card</td>\n",
       "      <td>Maestro</td>\n",
       "      <td>e</td>\n",
       "    </tr>\n",
       "    <tr>\n",
       "      <th>99</th>\n",
       "      <td>ru53ucaj4</td>\n",
       "      <td>False</td>\n",
       "      <td>card</td>\n",
       "      <td>Diners Club / Carte Blanche</td>\n",
       "      <td>e</td>\n",
       "    </tr>\n",
       "    <tr>\n",
       "      <th>10</th>\n",
       "      <td>4nt3vg6nr</td>\n",
       "      <td>False</td>\n",
       "      <td>card</td>\n",
       "      <td>Discover</td>\n",
       "      <td>c</td>\n",
       "    </tr>\n",
       "  </tbody>\n",
       "</table>\n",
       "</div>"
      ],
      "text/plain": [
       "    paymentMethodId paymentMethodRegistrationFailure paymentMethodType  \\\n",
       "96        annk08w5x                            False              card   \n",
       "164       vmktpy2mv                            False              card   \n",
       "136       5tyvyueom                            False              card   \n",
       "99        ru53ucaj4                            False              card   \n",
       "10        4nt3vg6nr                            False              card   \n",
       "\n",
       "           paymentMethodProvider paymentMethodIssuer  \n",
       "96                       Voyager                   r  \n",
       "164                     Discover                   o  \n",
       "136                      Maestro                   e  \n",
       "99   Diners Club / Carte Blanche                   e  \n",
       "10                      Discover                   c  "
      ]
     },
     "execution_count": 59,
     "metadata": {},
     "output_type": "execute_result"
    }
   ],
   "source": [
    "payment_methods_df[payment_methods_df['paymentMethodIssuer'].isin([' ', 'B', 'a', 'c', 'e', 'n', 'o', 'p', 'r', 'x'])].sample(5)"
   ]
  },
  {
   "cell_type": "code",
   "execution_count": 60,
   "id": "44f1aef2-c08d-40f4-a064-960184caa573",
   "metadata": {
    "execution": {
     "iopub.execute_input": "2024-03-11T13:28:14.177591Z",
     "iopub.status.busy": "2024-03-11T13:28:14.177260Z",
     "iopub.status.idle": "2024-03-11T13:28:14.186534Z",
     "shell.execute_reply": "2024-03-11T13:28:14.184913Z",
     "shell.execute_reply.started": "2024-03-11T13:28:14.177566Z"
    },
    "tags": []
   },
   "outputs": [],
   "source": [
    "# combine the long tail into one category other_methods\n",
    "ohe_payment_method_issuer['other_methods'] = ohe_payment_method_issuer[[' ', 'B', 'a', 'c', 'e', 'n', 'o', 'p', 'r', 'x']].sum(axis=1)\n",
    "\n",
    "ohe_payment_method_issuer = ohe_payment_method_issuer[['Bastion Banks', 'Bulwark Trust Corp.', 'Citizens First Banks', 'Fountain Financial Inc.',\n",
    "                                                       'Grand Credit Corporation', 'Her Majesty Trust', 'His Majesty Bank Corp.', 'Rose Bancshares',\n",
    "                                                       'Solace Banks', 'Vertex Bancorp', 'other_methods']]"
   ]
  },
  {
   "cell_type": "markdown",
   "id": "40d6297e-4f4a-41fe-bdae-7e7e43bc12a0",
   "metadata": {},
   "source": [
    "## Transactions"
   ]
  },
  {
   "cell_type": "code",
   "execution_count": 61,
   "id": "ff15aa74-67a8-4d41-ad8a-81dec361bda9",
   "metadata": {
    "execution": {
     "iopub.execute_input": "2024-03-11T13:28:14.188593Z",
     "iopub.status.busy": "2024-03-11T13:28:14.188045Z",
     "iopub.status.idle": "2024-03-11T13:28:14.200282Z",
     "shell.execute_reply": "2024-03-11T13:28:14.199440Z",
     "shell.execute_reply.started": "2024-03-11T13:28:14.188542Z"
    },
    "tags": []
   },
   "outputs": [
    {
     "data": {
      "text/html": [
       "<div>\n",
       "<style scoped>\n",
       "    .dataframe tbody tr th:only-of-type {\n",
       "        vertical-align: middle;\n",
       "    }\n",
       "\n",
       "    .dataframe tbody tr th {\n",
       "        vertical-align: top;\n",
       "    }\n",
       "\n",
       "    .dataframe thead th {\n",
       "        text-align: right;\n",
       "    }\n",
       "</style>\n",
       "<table border=\"1\" class=\"dataframe\">\n",
       "  <thead>\n",
       "    <tr style=\"text-align: right;\">\n",
       "      <th></th>\n",
       "      <th>transactionId</th>\n",
       "      <th>orderId</th>\n",
       "      <th>paymentMethodId</th>\n",
       "      <th>transactionAmount</th>\n",
       "      <th>transactionFailed</th>\n",
       "    </tr>\n",
       "  </thead>\n",
       "  <tbody>\n",
       "    <tr>\n",
       "      <th>46</th>\n",
       "      <td>n53a4z93</td>\n",
       "      <td>typkze</td>\n",
       "      <td>suusse06u</td>\n",
       "      <td>10.0</td>\n",
       "      <td>False</td>\n",
       "    </tr>\n",
       "    <tr>\n",
       "      <th>65</th>\n",
       "      <td>aoyfjmwf</td>\n",
       "      <td>9eubwc</td>\n",
       "      <td>opyep1aoj</td>\n",
       "      <td>12.0</td>\n",
       "      <td>False</td>\n",
       "    </tr>\n",
       "    <tr>\n",
       "      <th>103</th>\n",
       "      <td>6h400s45</td>\n",
       "      <td>qrkjwn</td>\n",
       "      <td>w8f4lcsen</td>\n",
       "      <td>33.0</td>\n",
       "      <td>False</td>\n",
       "    </tr>\n",
       "    <tr>\n",
       "      <th>98</th>\n",
       "      <td>1nm2xl3k</td>\n",
       "      <td>l35jjq</td>\n",
       "      <td>g7u0onbnv</td>\n",
       "      <td>57.0</td>\n",
       "      <td>True</td>\n",
       "    </tr>\n",
       "    <tr>\n",
       "      <th>59</th>\n",
       "      <td>hyknr1f4</td>\n",
       "      <td>znlrfn</td>\n",
       "      <td>wejtuspvr</td>\n",
       "      <td>14.0</td>\n",
       "      <td>False</td>\n",
       "    </tr>\n",
       "  </tbody>\n",
       "</table>\n",
       "</div>"
      ],
      "text/plain": [
       "    transactionId orderId paymentMethodId  transactionAmount transactionFailed\n",
       "46       n53a4z93  typkze       suusse06u               10.0             False\n",
       "65       aoyfjmwf  9eubwc       opyep1aoj               12.0             False\n",
       "103      6h400s45  qrkjwn       w8f4lcsen               33.0             False\n",
       "98       1nm2xl3k  l35jjq       g7u0onbnv               57.0              True\n",
       "59       hyknr1f4  znlrfn       wejtuspvr               14.0             False"
      ]
     },
     "execution_count": 61,
     "metadata": {},
     "output_type": "execute_result"
    }
   ],
   "source": [
    "transactions_df.sample(5)"
   ]
  },
  {
   "cell_type": "code",
   "execution_count": 62,
   "id": "ad58bd5c-9f2b-4681-96ff-838dc08bdd3e",
   "metadata": {
    "execution": {
     "iopub.execute_input": "2024-03-11T13:28:14.202402Z",
     "iopub.status.busy": "2024-03-11T13:28:14.201504Z",
     "iopub.status.idle": "2024-03-11T13:28:14.209111Z",
     "shell.execute_reply": "2024-03-11T13:28:14.208447Z",
     "shell.execute_reply.started": "2024-03-11T13:28:14.202370Z"
    },
    "tags": []
   },
   "outputs": [],
   "source": [
    "# get number of all transactions per customer\n",
    "all_transactions_count = transactions_df.groupby(transactions_df.index).agg({'transactionId':'count'}).rename(columns={'transactionId':'transactions_count'})"
   ]
  },
  {
   "cell_type": "code",
   "execution_count": 63,
   "id": "e4241b74-6631-4efd-bd5a-464724cf0558",
   "metadata": {
    "execution": {
     "iopub.execute_input": "2024-03-11T13:28:14.210792Z",
     "iopub.status.busy": "2024-03-11T13:28:14.210390Z",
     "iopub.status.idle": "2024-03-11T13:28:14.222587Z",
     "shell.execute_reply": "2024-03-11T13:28:14.221530Z",
     "shell.execute_reply.started": "2024-03-11T13:28:14.210762Z"
    },
    "tags": []
   },
   "outputs": [],
   "source": [
    "# get number of failed transactions per customer\n",
    "failed_transactions_count = transactions_df.replace([True, False], [1, 0]).fillna(-1).groupby(transactions_df.index).agg({'transactionFailed':'sum'}).rename(columns={'transactionFailed':'failed_transactions_count'})"
   ]
  },
  {
   "cell_type": "code",
   "execution_count": 64,
   "id": "0d0cd2cc-ade9-4f71-a3d5-8bdf11abd802",
   "metadata": {
    "execution": {
     "iopub.execute_input": "2024-03-11T13:28:14.224250Z",
     "iopub.status.busy": "2024-03-11T13:28:14.223547Z",
     "iopub.status.idle": "2024-03-11T13:28:14.228501Z",
     "shell.execute_reply": "2024-03-11T13:28:14.227648Z",
     "shell.execute_reply.started": "2024-03-11T13:28:14.224217Z"
    },
    "tags": []
   },
   "outputs": [],
   "source": [
    "# calculate the ratio between failed and all transactions - the higher the number, the more failed transactions are there\n",
    "failed_transactions_ratio = failed_transactions_count['failed_transactions_count'] / all_transactions_count['transactions_count']\n",
    "failed_transactions_ratio.name = 'failed_transactions_ratio'"
   ]
  },
  {
   "cell_type": "markdown",
   "id": "a31ce40b-1e84-42ed-8b3b-b93dd9f611f5",
   "metadata": {},
   "source": [
    "## Merge dataset"
   ]
  },
  {
   "cell_type": "code",
   "execution_count": 65,
   "id": "be1412ae-b40f-4493-ba75-720de2651ae2",
   "metadata": {
    "execution": {
     "iopub.execute_input": "2024-03-11T13:28:14.230153Z",
     "iopub.status.busy": "2024-03-11T13:28:14.229569Z",
     "iopub.status.idle": "2024-03-11T13:28:14.240510Z",
     "shell.execute_reply": "2024-03-11T13:28:14.239812Z",
     "shell.execute_reply.started": "2024-03-11T13:28:14.230109Z"
    },
    "tags": []
   },
   "outputs": [],
   "source": [
    "# merge all the features with customer data and the flag (fraudulent)\n",
    "dataset_with_features = pd.concat([customer_df, orders_count, unique_orders_locations, locations_per_order_ratio, mean_order_amount, min_order_amount, max_order_amount,\n",
    "                                   sum_order_amount, fulfilled_orders_count, pending_orders_count, failed_orders_count, address_mismatch_ratio, payment_method_type_count,\n",
    "                                   payment_method_provider_count, payment_method_issuer_count, payment_method_registration_failure_count, ohe_payment_method_type,\n",
    "                                   ohe_payment_method_provider, ohe_payment_method_issuer, all_transactions_count, failed_transactions_count, failed_transactions_ratio],\n",
    "                                  axis=1)"
   ]
  },
  {
   "cell_type": "code",
   "execution_count": 66,
   "id": "c445e978-831a-44c3-9169-86f141c8a8dc",
   "metadata": {
    "execution": {
     "iopub.execute_input": "2024-03-11T13:28:14.242017Z",
     "iopub.status.busy": "2024-03-11T13:28:14.241383Z",
     "iopub.status.idle": "2024-03-11T13:28:14.264384Z",
     "shell.execute_reply": "2024-03-11T13:28:14.263411Z",
     "shell.execute_reply.started": "2024-03-11T13:28:14.241987Z"
    },
    "tags": []
   },
   "outputs": [
    {
     "data": {
      "text/html": [
       "<div>\n",
       "<style scoped>\n",
       "    .dataframe tbody tr th:only-of-type {\n",
       "        vertical-align: middle;\n",
       "    }\n",
       "\n",
       "    .dataframe tbody tr th {\n",
       "        vertical-align: top;\n",
       "    }\n",
       "\n",
       "    .dataframe thead th {\n",
       "        text-align: right;\n",
       "    }\n",
       "</style>\n",
       "<table border=\"1\" class=\"dataframe\">\n",
       "  <thead>\n",
       "    <tr style=\"text-align: right;\">\n",
       "      <th></th>\n",
       "      <th>fraudulent</th>\n",
       "      <th>customerEmail</th>\n",
       "      <th>customerPhone</th>\n",
       "      <th>customerDevice</th>\n",
       "      <th>customerIPAddress</th>\n",
       "      <th>customerBillingAddress</th>\n",
       "      <th>username</th>\n",
       "      <th>domain</th>\n",
       "      <th>is_popular_domain</th>\n",
       "      <th>is_disposal_domain</th>\n",
       "      <th>...</th>\n",
       "      <th>Grand Credit Corporation</th>\n",
       "      <th>Her Majesty Trust</th>\n",
       "      <th>His Majesty Bank Corp.</th>\n",
       "      <th>Rose Bancshares</th>\n",
       "      <th>Solace Banks</th>\n",
       "      <th>Vertex Bancorp</th>\n",
       "      <th>other_methods</th>\n",
       "      <th>transactions_count</th>\n",
       "      <th>failed_transactions_count</th>\n",
       "      <th>failed_transactions_ratio</th>\n",
       "    </tr>\n",
       "  </thead>\n",
       "  <tbody>\n",
       "    <tr>\n",
       "      <th>153</th>\n",
       "      <td>True</td>\n",
       "      <td>kwalsh@lopez-gomez.biz</td>\n",
       "      <td>04103378280</td>\n",
       "      <td>mdoe6wib243y09uaj95z</td>\n",
       "      <td>3162:1f06:9114:56d1:f5e8:bf3a:6ad0:b6f2</td>\n",
       "      <td>0008 Jessica Stream\\nMcbridetown, MH 04017</td>\n",
       "      <td>kwalsh</td>\n",
       "      <td>lopez-gomez.biz</td>\n",
       "      <td>False</td>\n",
       "      <td>False</td>\n",
       "      <td>...</td>\n",
       "      <td>0</td>\n",
       "      <td>0</td>\n",
       "      <td>0</td>\n",
       "      <td>0</td>\n",
       "      <td>0</td>\n",
       "      <td>0</td>\n",
       "      <td>2</td>\n",
       "      <td>3</td>\n",
       "      <td>0.0</td>\n",
       "      <td>0.00</td>\n",
       "    </tr>\n",
       "    <tr>\n",
       "      <th>117</th>\n",
       "      <td>False</td>\n",
       "      <td>smithtonya@huffman.org</td>\n",
       "      <td>1-753-714-9977x4456</td>\n",
       "      <td>fd5khwqxgptuyvtl59mp</td>\n",
       "      <td>7243:82ce:52ca:f27b:f116:30c0:f704:59f3</td>\n",
       "      <td>401 Linda Circles Apt. 670\\nRaymondton, OH 670...</td>\n",
       "      <td>smithtonya</td>\n",
       "      <td>huffman.org</td>\n",
       "      <td>False</td>\n",
       "      <td>False</td>\n",
       "      <td>...</td>\n",
       "      <td>1</td>\n",
       "      <td>0</td>\n",
       "      <td>0</td>\n",
       "      <td>0</td>\n",
       "      <td>0</td>\n",
       "      <td>0</td>\n",
       "      <td>0</td>\n",
       "      <td>3</td>\n",
       "      <td>0.0</td>\n",
       "      <td>0.00</td>\n",
       "    </tr>\n",
       "    <tr>\n",
       "      <th>104</th>\n",
       "      <td>True</td>\n",
       "      <td>wdelacruz@yahoo.com</td>\n",
       "      <td>155.688.4242x443</td>\n",
       "      <td>fmm4yabu9llergl9qbl9</td>\n",
       "      <td>cd18:5626:a1c4:7e99:addf:368e:c98:e772</td>\n",
       "      <td>3074 Caroline Oval\\nLake Maryburgh, MA 15880</td>\n",
       "      <td>wdelacruz</td>\n",
       "      <td>yahoo.com</td>\n",
       "      <td>True</td>\n",
       "      <td>False</td>\n",
       "      <td>...</td>\n",
       "      <td>0</td>\n",
       "      <td>0</td>\n",
       "      <td>0</td>\n",
       "      <td>0</td>\n",
       "      <td>0</td>\n",
       "      <td>0</td>\n",
       "      <td>0</td>\n",
       "      <td>4</td>\n",
       "      <td>1.0</td>\n",
       "      <td>0.25</td>\n",
       "    </tr>\n",
       "    <tr>\n",
       "      <th>126</th>\n",
       "      <td>True</td>\n",
       "      <td>koneal@henderson.biz</td>\n",
       "      <td>059.431.5467x7848</td>\n",
       "      <td>gcfo5uheb9mugbstbjez</td>\n",
       "      <td>85.188.105.126</td>\n",
       "      <td>056 Megan Trail Suite 355\\nWest Zachary, GU 51...</td>\n",
       "      <td>koneal</td>\n",
       "      <td>henderson.biz</td>\n",
       "      <td>False</td>\n",
       "      <td>False</td>\n",
       "      <td>...</td>\n",
       "      <td>0</td>\n",
       "      <td>0</td>\n",
       "      <td>0</td>\n",
       "      <td>0</td>\n",
       "      <td>0</td>\n",
       "      <td>0</td>\n",
       "      <td>1</td>\n",
       "      <td>4</td>\n",
       "      <td>0.0</td>\n",
       "      <td>0.00</td>\n",
       "    </tr>\n",
       "    <tr>\n",
       "      <th>26</th>\n",
       "      <td>False</td>\n",
       "      <td>avaldez@gmail.com</td>\n",
       "      <td>203-573-2041</td>\n",
       "      <td>bwgvb5w8dm6upvi7ucqc</td>\n",
       "      <td>46.130.37.206</td>\n",
       "      <td>304 Heather Fall\\nEast Christina, UT 45880-4522</td>\n",
       "      <td>avaldez</td>\n",
       "      <td>gmail.com</td>\n",
       "      <td>True</td>\n",
       "      <td>False</td>\n",
       "      <td>...</td>\n",
       "      <td>0</td>\n",
       "      <td>0</td>\n",
       "      <td>0</td>\n",
       "      <td>0</td>\n",
       "      <td>1</td>\n",
       "      <td>0</td>\n",
       "      <td>0</td>\n",
       "      <td>2</td>\n",
       "      <td>1.0</td>\n",
       "      <td>0.50</td>\n",
       "    </tr>\n",
       "  </tbody>\n",
       "</table>\n",
       "<p>5 rows × 61 columns</p>\n",
       "</div>"
      ],
      "text/plain": [
       "     fraudulent           customerEmail        customerPhone  \\\n",
       "153        True  kwalsh@lopez-gomez.biz          04103378280   \n",
       "117       False  smithtonya@huffman.org  1-753-714-9977x4456   \n",
       "104        True     wdelacruz@yahoo.com     155.688.4242x443   \n",
       "126        True    koneal@henderson.biz    059.431.5467x7848   \n",
       "26        False       avaldez@gmail.com         203-573-2041   \n",
       "\n",
       "           customerDevice                        customerIPAddress  \\\n",
       "153  mdoe6wib243y09uaj95z  3162:1f06:9114:56d1:f5e8:bf3a:6ad0:b6f2   \n",
       "117  fd5khwqxgptuyvtl59mp  7243:82ce:52ca:f27b:f116:30c0:f704:59f3   \n",
       "104  fmm4yabu9llergl9qbl9   cd18:5626:a1c4:7e99:addf:368e:c98:e772   \n",
       "126  gcfo5uheb9mugbstbjez                           85.188.105.126   \n",
       "26   bwgvb5w8dm6upvi7ucqc                            46.130.37.206   \n",
       "\n",
       "                                customerBillingAddress    username  \\\n",
       "153         0008 Jessica Stream\\nMcbridetown, MH 04017      kwalsh   \n",
       "117  401 Linda Circles Apt. 670\\nRaymondton, OH 670...  smithtonya   \n",
       "104       3074 Caroline Oval\\nLake Maryburgh, MA 15880   wdelacruz   \n",
       "126  056 Megan Trail Suite 355\\nWest Zachary, GU 51...      koneal   \n",
       "26     304 Heather Fall\\nEast Christina, UT 45880-4522     avaldez   \n",
       "\n",
       "              domain  is_popular_domain  is_disposal_domain  ...  \\\n",
       "153  lopez-gomez.biz              False               False  ...   \n",
       "117      huffman.org              False               False  ...   \n",
       "104        yahoo.com               True               False  ...   \n",
       "126    henderson.biz              False               False  ...   \n",
       "26         gmail.com               True               False  ...   \n",
       "\n",
       "     Grand Credit Corporation Her Majesty Trust His Majesty Bank Corp.  \\\n",
       "153                         0                 0                      0   \n",
       "117                         1                 0                      0   \n",
       "104                         0                 0                      0   \n",
       "126                         0                 0                      0   \n",
       "26                          0                 0                      0   \n",
       "\n",
       "     Rose Bancshares  Solace Banks Vertex Bancorp  other_methods  \\\n",
       "153                0             0              0              2   \n",
       "117                0             0              0              0   \n",
       "104                0             0              0              0   \n",
       "126                0             0              0              1   \n",
       "26                 0             1              0              0   \n",
       "\n",
       "     transactions_count  failed_transactions_count  failed_transactions_ratio  \n",
       "153                   3                        0.0                       0.00  \n",
       "117                   3                        0.0                       0.00  \n",
       "104                   4                        1.0                       0.25  \n",
       "126                   4                        0.0                       0.00  \n",
       "26                    2                        1.0                       0.50  \n",
       "\n",
       "[5 rows x 61 columns]"
      ]
     },
     "execution_count": 66,
     "metadata": {},
     "output_type": "execute_result"
    }
   ],
   "source": [
    "dataset_with_features.sample(5)"
   ]
  },
  {
   "cell_type": "code",
   "execution_count": 67,
   "id": "cfb3c6bd-382d-4b03-b833-6f0ca9931d39",
   "metadata": {
    "execution": {
     "iopub.execute_input": "2024-03-11T13:28:14.266964Z",
     "iopub.status.busy": "2024-03-11T13:28:14.266082Z",
     "iopub.status.idle": "2024-03-11T13:28:14.278796Z",
     "shell.execute_reply": "2024-03-11T13:28:14.277931Z",
     "shell.execute_reply.started": "2024-03-11T13:28:14.266912Z"
    }
   },
   "outputs": [],
   "source": [
    "dataset_with_features.to_csv('dataset_with_features.csv', index=False)"
   ]
  },
  {
   "cell_type": "code",
   "execution_count": null,
   "id": "70e37c0a-d8ad-40c8-9aa1-0a7b471b540f",
   "metadata": {},
   "outputs": [],
   "source": []
  }
 ],
 "metadata": {
  "kernelspec": {
   "display_name": "Python 3 (ipykernel)",
   "language": "python",
   "name": "python3"
  },
  "language_info": {
   "codemirror_mode": {
    "name": "ipython",
    "version": 3
   },
   "file_extension": ".py",
   "mimetype": "text/x-python",
   "name": "python",
   "nbconvert_exporter": "python",
   "pygments_lexer": "ipython3",
   "version": "3.9.18"
  }
 },
 "nbformat": 4,
 "nbformat_minor": 5
}
